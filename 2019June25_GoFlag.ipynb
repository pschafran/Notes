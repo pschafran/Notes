{
 "cells": [
  {
   "cell_type": "markdown",
   "metadata": {},
   "source": [
    "# 2019 June 25 -- GoFlag Data Processing\n",
    "\n",
    "## Data at pscha005@turing.hpc.odu.edu:/scratch-lustre/pscha005/GoFlag/ and /Volumes/Samsung_T5/IsoetesDNA/GoFlag/\n",
    "\n",
    "## Approach: Process target-enrichment reads from GoFlag using Phyluce, HybPiper, and GoFlag pipeline. Compare trees from concatenated RAxML and ASTRAL analysis of individual gene trees for each pipeline. Filter loci by various criteria and reanalyze. Following Herrando-Moraira et al. 2019 (Molecular Phylogenetics & Evolution)\n"
   ]
  },
  {
   "cell_type": "markdown",
   "metadata": {},
   "source": [
    "# HybPiper\n",
    "\n",
    "### HybPiper requires a target file of CDS seqs (not just probe seqs). To approximate target CDS of probes for Isoetes, will BLAST probes against Isoetes transcriptomes to get all transcripts matching probes (incl. homeologs and paralogs). To do this, first need to assemble Isoetes sinensis transcriptome from Yang, T.  and X. Liu. 2015. Comparing photosynthetic characteristics of Isoetes sinensis Palmer under submerged and terrestrial conditions. Scientific Reports.\n",
    "\n",
    "#### Download reads from SRA into /scratch-lustre/pscha005/transcriptomes/sinensis/. Note older fastq-dump command needed for --defline-seq parameter. Trinity can't read read names as normally d/led with fasterq-dump."
   ]
  },
  {
   "cell_type": "code",
   "execution_count": null,
   "metadata": {
    "collapsed": true
   },
   "outputs": [],
   "source": [
    "enable_lmod\n",
    "module load sra/2.9\n",
    "\n",
    "fastq-dump.2.9.2 --split-files SRR1648119 --defline-seq '@$sn[_$rn]/$ri' -O ./\n",
    "fastq-dump.2.9.2 --split-files SRR1646513 --defline-seq '@$sn[_$rn]/$ri' -O ./"
   ]
  },
  {
   "cell_type": "markdown",
   "metadata": {},
   "source": [
    "Files:\n",
    "-rw-r--r-- 1 pscha005 users  12G Jun 26 08:32 SRR1646513_1.fastq\n",
    "-rw-r--r-- 1 pscha005 users  12G Jun 26 08:32 SRR1646513_2.fastq\n",
    "-rw-r--r-- 1 pscha005 users  13G Jun 26 08:31 SRR1648119_1.fastq\n",
    "-rw-r--r-- 1 pscha005 users  13G Jun 26 08:31 SRR1648119_2.fastq\n",
    "\n",
    "#### Reads run through Trimmomatic to remove any unpaired or low quality. "
   ]
  },
  {
   "cell_type": "code",
   "execution_count": null,
   "metadata": {
    "collapsed": true
   },
   "outputs": [],
   "source": [
    "enable_lmod\n",
    "module load java/11.0\n",
    "java -jar /scratch-lustre/pscha005/trimmomatic/trimmomatic-0.33.jar PE -threads 16 SRR1646513_1.fastq.gz SRR1646513_2.fastq.gz ./SRR1646513_R1_forward_paired.fq.gz ./SRR1646513_R1_forward_unpaired.fq.gz ./SRR1646513_R2_reverse_paired.fq.gz ./SRR1646513_R2_reverse_unpaired.fq.gz ILLUMINACLIP:/scratch-lustre/pscha005/trimmomatic/adapters/TruSeq3-PE.fa:2:30:10 LEADING:3 TRAILING:3 SLIDINGWINDOW:4:15 MINLEN:36"
   ]
  },
  {
   "cell_type": "markdown",
   "metadata": {},
   "source": [
    "#### Transcriptome first assembled by rnaSPAdes (each individual, then both combined since they are the same species). "
   ]
  },
  {
   "cell_type": "code",
   "execution_count": null,
   "metadata": {
    "collapsed": true
   },
   "outputs": [],
   "source": [
    "enable_lmod\n",
    "module load spades/3.13\n",
    "rnaspades.py -m 768 -t 32 --pe1-1 ./SRR1648119_R1_forward_paired.fq.gz --pe1-2 ./SRR1648119_R2_reverse_paired.fq.gz --pe1-1 ./SRR1646513_R1_forward_paired.fq.gz --pe1-2 ./SRR1646513_R2_reverse_paired.fq.gz -o RNAspades_output_combined"
   ]
  },
  {
   "cell_type": "markdown",
   "metadata": {},
   "source": [
    "#### rnaSPAdes Output -- combined assembly finds ~46000 more hard filtered transcripts, individual plants closely match"
   ]
  },
  {
   "cell_type": "code",
   "execution_count": null,
   "metadata": {
    "collapsed": true
   },
   "outputs": [],
   "source": [
    "[pscha005@turing1 sinensis]$ grep -c \">\" ./RNAspades_output_*/*transcripts.fasta\n",
    "./RNAspades_output_combined/hard_filtered_transcripts.fasta:153018\n",
    "./RNAspades_output_combined/soft_filtered_transcripts.fasta:273745\n",
    "./RNAspades_output_combined/transcripts.fasta:209733\n",
    "./RNAspades_output_SRR1646513/hard_filtered_transcripts.fasta:116998\n",
    "./RNAspades_output_SRR1646513/soft_filtered_transcripts.fasta:201094\n",
    "./RNAspades_output_SRR1646513/transcripts.fasta:156647\n",
    "./RNAspades_output_SRR1648119/hard_filtered_transcripts.fasta:116440\n",
    "./RNAspades_output_SRR1648119/soft_filtered_transcripts.fasta:201272\n",
    "./RNAspades_output_SRR1648119/transcripts.fasta:155130"
   ]
  },
  {
   "cell_type": "markdown",
   "metadata": {},
   "source": [
    "#### Tried to run old ver. of Trinity already on Turing (/cm/shared/apps/trinity/2.0.6/Trinity). Requires java 1.7 but cluster would not go below 1.8. Running Trinity with --bypass_java_version_check resulted in a failed run ~12 hrs in. \n",
    "\n",
    "#### Updating Trinity to v.2.8.5 https://github.com/trinityrnaseq/trinityrnaseq/releases/tag/Trinity-v2.8.5\n",
    "#### New dependencies needed are jellyfish and salmon. bowtie2, java, samtools1.9 already installed as modules on Turing.\n",
    "#### Jellyfish installed in /scratch-lustre/pscha005/scripts/\n",
    "\n",
    "!Warning! Some issues with compilers encountered, before trying to make, load modules for gcc and cmake. "
   ]
  },
  {
   "cell_type": "code",
   "execution_count": null,
   "metadata": {
    "collapsed": true
   },
   "outputs": [],
   "source": [
    "wget https://github.com/gmarcais/Jellyfish/releases/download/v2.2.10/jellyfish-2.2.10.tar.gz\n",
    "./configure --prefix=$HOME ## This installs some files required by jellyfish in /home/pscha005/bin/jellyfish/\n",
    "make -j 4\n",
    "make install"
   ]
  },
  {
   "cell_type": "markdown",
   "metadata": {},
   "source": [
    "#### Salmon added to /scratch-lustre/pscha005/scripts/ . Does not need to be compiled, just unpacked."
   ]
  },
  {
   "cell_type": "code",
   "execution_count": null,
   "metadata": {
    "collapsed": true
   },
   "outputs": [],
   "source": [
    "wget https://github.com/COMBINE-lab/salmon/releases/download/v0.14.0/salmon-0.14.0_linux_x86_64.tar.gz"
   ]
  },
  {
   "cell_type": "markdown",
   "metadata": {},
   "source": [
    "#### Trinity installed in /scratch-lustre/pscha005/scripts/"
   ]
  },
  {
   "cell_type": "code",
   "execution_count": null,
   "metadata": {
    "collapsed": true
   },
   "outputs": [],
   "source": [
    "wget https://github.com/trinityrnaseq/trinityrnaseq/archive/Trinity-v2.8.5.tar.gz\n",
    "make"
   ]
  },
  {
   "cell_type": "markdown",
   "metadata": {},
   "source": [
    "#### Now Trinity 2.8.5 should run with following SLURM script:"
   ]
  },
  {
   "cell_type": "code",
   "execution_count": null,
   "metadata": {
    "collapsed": true
   },
   "outputs": [],
   "source": [
    "#!/bin/bash -l\n",
    "\n",
    "#SBATCH -o Trinity2.8_combined.txt\n",
    "#SBATCH -n 32\n",
    "#SBATCH -p himem\n",
    "#SBATCH --mail-user=pscha005@odu.edu\n",
    "#SBATCH --mail-type=END\n",
    "#SBATCH --job-name=Trinity_Combined\n",
    "\n",
    "enable_lmod\n",
    "module load java/12.0\n",
    "module load samtools\n",
    "module load bowtie2/2.3\n",
    "export PATH=$PATH:/scratch-lustre/pscha005/scripts/jellyfish-2.2.10/bin/:/scratch-lustre/pscha005/scripts/salmon-latest_linux_x86_64/bin/\n",
    "\n",
    "/scratch-lustre/pscha005/scripts/trinityrnaseq-Trinity-v2.8.5/Trinity --seqType fq --max_memory 768G --left SRR1646513_1.fastq,SRR1648119_1.fastq --right SRR1646513_2.fastq,SRR1648119_2.fastq --CPU 32 --output trinity2.8_output"
   ]
  },
  {
   "cell_type": "markdown",
   "metadata": {},
   "source": [
    "#### Trinity failed with error that numpy couldn't be imported"
   ]
  },
  {
   "cell_type": "code",
   "execution_count": null,
   "metadata": {
    "collapsed": true
   },
   "outputs": [],
   "source": [
    "Errmsg:\n",
    "Traceback (most recent call last):\n",
    "  File \"/scratch-lustre/pscha005/scripts/trinityrnaseq-Trinity-v2.8.5/Analysis/SuperTranscripts/Trinity_gene_splice_modeler.py\", line 11, in <module>\n",
    "    import numpy\n",
    "ImportError: No module named numpy"
   ]
  },
  {
   "cell_type": "markdown",
   "metadata": {},
   "source": [
    "#### Trying to add numpy (and dependecies cuda and python) to SLURM script"
   ]
  },
  {
   "cell_type": "code",
   "execution_count": null,
   "metadata": {
    "collapsed": true
   },
   "outputs": [],
   "source": [
    "#### Trying to add numpy (and dependecies cuda and python) to SLURM script\n",
    "#!/bin/bash -l\n",
    "\n",
    "#SBATCH -o Trinity2.8_combined.txt\n",
    "#SBATCH -n 32\n",
    "#SBATCH -p himem\n",
    "#SBATCH --mail-user=pscha005@odu.edu\n",
    "#SBATCH --mail-type=END\n",
    "#SBATCH --job-name=Trinity2.8_Combined\n",
    "\n",
    "enable_lmod\n",
    "module load java/12.0\n",
    "module load samtools\n",
    "module load bowtie2/2.3\n",
    "module load cuda/7.5\n",
    "module load python/2.7\n",
    "module load numpy/1.16\n",
    "export PATH=$PATH:/scratch-lustre/pscha005/scripts/jellyfish-2.2.10/bin/:/scratch-lustre/pscha005/scripts/salmon-latest_linux_x86_64/bin/\n",
    "\n",
    "/scratch-lustre/pscha005/scripts/trinityrnaseq-Trinity-v2.8.5/Trinity --seqType fq --max_memory 768G --left SRR1646513_1.fastq,SRR1648119_1.fastq --right SRR1646513_2.fastq,SRR1648119_2.fastq --CPU 32 --output trinity2.8_output"
   ]
  },
  {
   "cell_type": "markdown",
   "metadata": {},
   "source": [
    "#### Trinity still fails with \n",
    "jellyfish: /usr/lib64/libstdc++.so.6: version `GLIBCXX_3.4.20' not found (required by jellyfish)\n",
    "jellyfish: /usr/lib64/libstdc++.so.6: version `CXXABI_1.3.8' not found (required by jellyfish)\n",
    "jellyfish: /usr/lib64/libstdc++.so.6: version `GLIBCXX_3.4.21' not found (required by jellyfish)\n",
    "jellyfish: /usr/lib64/libstdc++.so.6: version `GLIBCXX_3.4.15' not found (required by jellyfish)\n",
    "jellyfish: /usr/lib64/libstdc++.so.6: version `GLIBCXX_3.4.19' not found (required by jellyfish)\n",
    "jellyfish: /usr/lib64/libstdc++.so.6: version `GLIBCXX_3.4.20' not found (required by /home/pscha005/lib/libjellyfish-2.0.so.2)\n",
    "jellyfish: /usr/lib64/libstdc++.so.6: version `GLIBCXX_3.4.21' not found (required by /home/pscha005/lib/libjellyfish-2.0.so.2)\n",
    "Use of uninitialized value $version in pattern match (m//) at /scratch-lustre/pscha005/scripts/trinityrnaseq-Trinity-v2.8.5/Trinity line 3827.\n",
    "\n",
    "Error, need jellyfish v2, instead found  ; Get it here: http://www.genome.umd.edu/jellyfish.html at /scratch-lustre/pscha005/scripts/trinityrnaseq-Trinity-v2.8.5/Trinity line 3828."
   ]
  },
  {
   "cell_type": "markdown",
   "metadata": {},
   "source": [
    "#### Issue was GCC missing, added module load to script"
   ]
  },
  {
   "cell_type": "code",
   "execution_count": null,
   "metadata": {
    "collapsed": true
   },
   "outputs": [],
   "source": [
    "#### Issue was GCC missing, added module load to script\n",
    "\n",
    "#!/bin/bash -l\n",
    "\n",
    "#SBATCH -o Trinity2.8_combined.txt\n",
    "#SBATCH -n 32\n",
    "#SBATCH -p himem\n",
    "#SBATCH --mail-user=pscha005@odu.edu\n",
    "#SBATCH --mail-type=END\n",
    "#SBATCH --job-name=Trinity2.8_Combined\n",
    "\n",
    "enable_lmod\n",
    "module load gcc\n",
    "module load java/12.0\n",
    "module load samtools\n",
    "module load bowtie2/2.3\n",
    "module load cuda/7.5\n",
    "module load python/2.7\n",
    "module load numpy/1.16\n",
    "export PATH=$PATH:/scratch-lustre/pscha005/scripts/jellyfish-2.2.10/bin/:/scratch-lustre/pscha005/scripts/salmon-latest_linux_x86_64/bin/\n",
    "\n",
    "/scratch-lustre/pscha005/scripts/trinityrnaseq-Trinity-v2.8.5/Trinity --seqType fq --max_memory 768G --left SRR1646513_1.fastq,SRR1648119_1.fastq --right SRR1646513_2.fastq,SRR1648119_2.fastq --CPU 32 --output trinity2.8_output\n"
   ]
  },
  {
   "cell_type": "markdown",
   "metadata": {},
   "source": [
    "### Combine transcripts from all 4 Isoetes transcriptomes:\n",
    "    Isoetes echinospora from Sandy Hetherington\n",
    "    Isoetes tegetiformans from 1KP Project\n",
    "    Isoetes sp. from 1KP Project\n",
    "    Isoetes sinensis from Yang and Liu(2015)\n",
    "#### Transcript file at local:~/Desktop/Isoetes_sandbox/Isoetes_transcriptomes_2.fasta\n",
    "#### Create BLAST database of all transcripts in local:~/Desktop/Isoetes_sandbox/ncbi*/\n",
    "    makeblastdb -in ../Isoetes_transcriptomes_2.fasta -dbtype nucl\n",
    "#### Create text file with list of all probe sequence files.\n",
    "head Reference_File_List.txt \n",
    "L1.fa\n",
    "L10.fa\n",
    "L100.fa\n",
    "L101.fa\n",
    "L102.fa\n",
    "L103.fa\n",
    "L104.fa\n",
    "L105.fa\n",
    "L106.fa\n",
    "L107.fa\n",
    "\n",
    "####  Probe files (from GoFlag data in \"refs\" folder) should be structured:\n",
    "head L1.fa\n",
    ">L1_LeptosporangiateMonilophytes_Polypodiales_Pteris_vittata_1__REF\n",
    "CGCGATCCTCAATATTCTACATTAGACAAACAAGATCTTGCAGAGTTCAAAAAGGTCCTTGGTGATACTGGCGTTGTCACTGAGGCCTTTGAATTGGAGGCTGCAAACACTGATTGGCTAAGAAAATATGTTGGAACCAGCAAAGTGTTATTACGTCCATCTACAACGCAGCAA\n",
    ">L1_Lycophytes_Selaginellales_Selaginella_moellendorffii_1__REF\n",
    "GCCTCCAAAGTTGTAAGAGATGAACGCTTTGCAACACTGGATGATCAAGATATCAAGCACTTCTCCGGGATAGTGGGATCGAAGGGCCTGGTTGTGGACAAGGATGAATTGGAAGTGGCCAACACGGACTGGATGAGGAAGTTCAAAGGATCCGCTCAGCTCCTCCTTCGCCCCCAATCTTCAAATCAA\n",
    ">L1_Hornworts_Dendrocerotales_Megaceros_flagellaris_1__REF\n",
    "ATTCAGCGAGACGGGCGATTTTCTGATCTCAAGGATTCTGACATTGCCGTTTTCCAACAAATCCTGGGGGACGAGGGCGTGATTGTGGATCCGGATGAGCTGGAAGTGGCAAACACCGATTGGATGCGCAAGTACCGCGGAAATAGTAACCTGCTGTTGCGGCCCAAATCATCAGAGCAA\n",
    ">L1_LeptosporangiateMonilophytes_Cyatheales_Thyrsopteris_elegans_1__REF\n",
    "TCCAGAGATCCCCGATACTCTACAATCAAGGATCAAGACATTGCAGAGCTGCGCAAAATTGTTGGAGAGAAGGGTATTGTTACTGAAGAGTCTGAGCTAGAAGCTGCCAACACAGATTGGATGAGAAAGTATGTTGGAGGCAGCAAGGTGTTACTCCGCCCACGCACAACGCAGCAG\n",
    ">L1_LeptosporangiateMonilophytes_Polypodiales_Phymatosorus_grossus_1__REF\n",
    "AAAGCTTCTCGGGACCCTCGATATTCCACCATAGAGGATCAAGATGTTCAACAATTTCAAAAGATTGTTGGTGAAAAGGGTGTTTTGACTGAGGAATCTGAGCTAGATGCTGCCAATACTGATTGGATGCGAAAGTATGTTGGAAGCAGCAAGGTGTTACTTTGCCCACGTACAACACAGCAA"
   ]
  },
  {
   "cell_type": "markdown",
   "metadata": {},
   "source": [
    "#### With all transcripts in single FASTA file, run ~/python/scripts/makeTargetFile.py 1 2 3 , where: \n",
    "    1. Path to BLAST db\n",
    "    2. Txt file with list of all probe sequence files\n",
    "    3. FASTA file with all transcript seqs (same one used to make BLAST db)\n",
    "#### makeTargetFile.py will:\n",
    "    1. Extract references for just Isoetes, just Lycophytes, and all taxa from GoFlag loci files. Output is:\n",
    "        Isoetes_GoFlag_references.fasta\n",
    "        Lycophytes_GoFlag_references.fasta\n",
    "        All_GoFlag_references.fasta\n",
    "    2. BLAST each reference file against transcriptome db. Output is:\n",
    "        Isoetes_BLAST_to_transcriptomes.out\n",
    "        Lycophytes_BLAST_to_transcriptomes.out\n",
    "        AllRef_BLAST_to_transcriptomes.out\n",
    "    3. Parse BLAST output and extract the transcript hits. Output is:\n",
    "        Isoetes_GoFlag_target_scaffolds.fasta\n",
    "        Lycophyte_GoFlag_target_scaffolds.fasta\n",
    "        All_GoFlag_target_scaffolds.fasta\n",
    "    4. Remove all duplicate trancripts. Output is:\n",
    "        Isoetes_Unique_GoFlag_target_scaffolds.fasta\n",
    "        Lycophytes_Unique_GoFlag_target_scaffolds.fasta\n",
    "        All_Unique_GoFlag_target_scaffolds.fasta\n",
    "        \n",
    "#### After running (takes long time), same number of transcripts found using Isoetes and Lycophyte refs, slightly more with All refs. Suggests that paralogy should not be huge issue. \n",
    "grep -c \">\" *Unique*\n",
    "All_Unique_GoFlag_target_scaffolds.fasta:3418\n",
    "Isoetes_Unique_GoFlag_target_scaffolds.fasta:3385\n",
    "Lycophytes_Unique_GoFlag_target_scaffolds.fasta:3385\n",
    "\n",
    "#### While not the best input for HybPiper (requests exact full length CDS), this should be close enough for it to find targets and identify exon/intron boundaries in probe region. "
   ]
  },
  {
   "cell_type": "markdown",
   "metadata": {},
   "source": [
    "# Run HybPiper\n",
    "\n",
    "### HybPiper is run from /Volumes/Samsung_T5/IsoetesDNA/GoFlag/HybPiper/ with command:\n",
    "reads_first.py -r Forward_Reads.fq ReverseReads.fq -b Target_File.fasta --prefix SampleID --bwa \n",
    "#### BWA flag necessary for DNA seqs\n",
    "Example command line:"
   ]
  },
  {
   "cell_type": "code",
   "execution_count": null,
   "metadata": {
    "collapsed": true
   },
   "outputs": [],
   "source": [
    "/Applications/Phylogenetics/HybPiper/HybPiper/reads_first.py -r ../Schafran_GoFlag/A01_trimmedReads/RAPiD-Genomics_F065_UFG_393202_P020_WA10_i5-514_i7-54_S2005_L007_R1_001_val_1.fq ../Schafran_GoFlag/A01_trimmedReads/RAPiD-Genomics_F065_UFG_393202_P020_WA10_i5-514_i7-54_S2005_L007_R2_001_val_2.fq -b ./Isoetes_Unique_GoFlag_target_scaffolds.fasta --bwa --prefix I_engelmannii_WA10\n",
    "/Applications/Phylogenetics/HybPiper/HybPiper/reads_first.py -r ../Schafran_GoFlag/A01_trimmedReads/RAPiD-Genomics_F065_UFG_393202_P020_WA11_i5-514_i7-25_S2006_L007_R1_001_val_1.fq ../Schafran_GoFlag/A01_trimmedReads/RAPiD-Genomics_F065_UFG_393202_P020_WA11_i5-514_i7-25_S2006_L007_R2_001_val_2.fq -b ./Isoetes_Unique_GoFlag_target_scaffolds.fasta --prefix I_boomii_WA11 --bwa\n",
    "/Applications/Phylogenetics/HybPiper/HybPiper/reads_first.py -r ../Schafran_GoFlag/A01_trimmedReads/*WA12*.fq -b ./Isoetes_Unique_GoFlag_target_scaffolds.fasta --prefix I_butleri_WA12 --bwa\n",
    "/Applications/Phylogenetics/HybPiper/HybPiper/reads_first.py -r ../Schafran_GoFlag/A01_trimmedReads/*WB10*.fq -b ./Isoetes_Unique_GoFlag_target_scaffolds.fasta --prefix I_georgiana_WB10 --bwa\n",
    "/Applications/Phylogenetics/HybPiper/HybPiper/reads_first.py -r ../Schafran_GoFlag/A01_trimmedReads/*WB11*.fq -b ./Isoetes_Unique_GoFlag_target_scaffolds.fasta --prefix I_mattaponica_WB11 --bwa\n",
    "/Applications/Phylogenetics/HybPiper/HybPiper/reads_first.py -r ../Schafran_GoFlag/A01_trimmedReads/*WB12*.fq -b ./Isoetes_Unique_GoFlag_target_scaffolds.fasta --prefix I_lithophila_WB12 --bwa\n",
    "/Applications/Phylogenetics/HybPiper/HybPiper/reads_first.py -r ../Schafran_GoFlag/A01_trimmedReads/*WC10*.fq -b ./Isoetes_Unique_GoFlag_target_scaffolds.fasta --prefix I_appalachiana_WC10 --bwa\n",
    "/Applications/Phylogenetics/HybPiper/HybPiper/reads_first.py -r ../Schafran_GoFlag/A01_trimmedReads/*WC11*.fq -b ./Isoetes_Unique_GoFlag_target_scaffolds.fasta --prefix I_valida_WC11 --bwa\n",
    "/Applications/Phylogenetics/HybPiper/HybPiper/reads_first.py -r ../Schafran_GoFlag/A01_trimmedReads/*WC12*.fq -b ./Isoetes_Unique_GoFlag_target_scaffolds.fasta --prefix I_louisianensis_WC12 --bwa\n",
    "/Applications/Phylogenetics/HybPiper/HybPiper/reads_first.py -r ../Schafran_GoFlag/A01_trimmedReads/*WD10*.fq -b ./Isoetes_Unique_GoFlag_target_scaffolds.fasta --prefix I_microvela_WD10 --bwa\n",
    "/Applications/Phylogenetics/HybPiper/HybPiper/reads_first.py -r ../Schafran_GoFlag/A01_trimmedReads/*WD11*.fq -b ./Isoetes_Unique_GoFlag_target_scaffolds.fasta --prefix I_flaccida_WD11 --bwa\n",
    "/Applications/Phylogenetics/HybPiper/HybPiper/reads_first.py -r ../Schafran_GoFlag/A01_trimmedReads/*WD12*.fq -b ./Isoetes_Unique_GoFlag_target_scaffolds.fasta --prefix I_boliviensis_WD12 --bwa\n",
    "/Applications/Phylogenetics/HybPiper/HybPiper/reads_first.py -r ../Schafran_GoFlag/A01_trimmedReads/*WE10*.fq -b ./Isoetes_Unique_GoFlag_target_scaffolds.fasta --prefix I_septentrionalis_WE10 --bwa\n",
    "/Applications/Phylogenetics/HybPiper/HybPiper/reads_first.py -r ../Schafran_GoFlag/A01_trimmedReads/*WE11*.fq -b ./Isoetes_Unique_GoFlag_target_scaffolds.fasta --prefix I_flaccida_WE11 --bwa\n",
    "/Applications/Phylogenetics/HybPiper/HybPiper/reads_first.py -r ../Schafran_GoFlag/A01_trimmedReads/*WE12*.fq -b ./Isoetes_Unique_GoFlag_target_scaffolds.fasta --prefix I_tuckermanii_WE12 --bwa\n",
    "/Applications/Phylogenetics/HybPiper/HybPiper/reads_first.py -r ../Schafran_GoFlag/A01_trimmedReads/*WF10*.fq -b ./Isoetes_Unique_GoFlag_target_scaffolds.fasta --prefix I_virginica_WF10 --bwa\n",
    "/Applications/Phylogenetics/HybPiper/HybPiper/reads_first.py -r ../Schafran_GoFlag/A01_trimmedReads/*WF11*.fq -b ./Isoetes_Unique_GoFlag_target_scaffolds.fasta --prefix I_piedmontana_WF11 --bwa\n",
    "/Applications/Phylogenetics/HybPiper/HybPiper/reads_first.py -r ../Schafran_GoFlag/A01_trimmedReads/*WF12*.fq -b ./Isoetes_Unique_GoFlag_target_scaffolds.fasta --prefix I_storkii_WF12 --bwa\n",
    "/Applications/Phylogenetics/HybPiper/HybPiper/reads_first.py -r ../Schafran_GoFlag/A01_trimmedReads/*WG10*.fq -b ./Isoetes_Unique_GoFlag_target_scaffolds.fasta --prefix I_hyemalis_WG10 --bwa\n",
    "/Applications/Phylogenetics/HybPiper/HybPiper/reads_first.py -r ../Schafran_GoFlag/A01_trimmedReads/*WG11*.fq -b ./Isoetes_Unique_GoFlag_target_scaffolds.fasta --prefix I_melanopoda_WG11 --bwa\n"
   ]
  },
  {
   "cell_type": "markdown",
   "metadata": {},
   "source": [
    "#### Don't forget to clean up directories periodically, they take up a lot of space! Run:"
   ]
  },
  {
   "cell_type": "code",
   "execution_count": null,
   "metadata": {
    "collapsed": true
   },
   "outputs": [],
   "source": [
    "for i in I_*; do cleanup.py $i; done"
   ]
  },
  {
   "cell_type": "markdown",
   "metadata": {},
   "source": [
    "#### After all samples processed through HyPiper, extract sequence lengths:"
   ]
  },
  {
   "cell_type": "code",
   "execution_count": null,
   "metadata": {
    "collapsed": true
   },
   "outputs": [],
   "source": [
    "python /Applications/Phylogenetics/HybPiper/HybPiper/get_seq_lengths.py Isoetes_Unique_GoFlag_target_scaffolds.fasta namelist.txt dna > sequence_lengths.txt # must be called with \"python get_seq_lengths.py ...\" due to preserve correct sys.argv order"
   ]
  },
  {
   "cell_type": "code",
   "execution_count": null,
   "metadata": {
    "collapsed": true
   },
   "outputs": [],
   "source": [
    "head sequence_lengths.txt\n",
    "Species\tL78\tL79\tL72\tL73\tL70\tL71\tL76\tL77\tL74\tL75\tL321\tL320\tL323\tL289\tL325\tL324\tL327\tL326\tL329\tL283\tL280\tL281\tL286\tL284\tL285\tL354\tL355\tL356\tL357\tL219\tL218\tL352\tL353\tL215\tL214\tL217\tL358\tL359\tL213\tL212\tL422\tL423\tL420\tL421\tL426\tL427\tL425\tL428\tL429\tL322\tL130\tL282\tL132\tL133\tL134\tL135\tL136\tL137\tL138\tL139\tL328\tL43\tL42\tL41\tL40\tL47\tL46\tL45\tL44\tL49\tL48\tL251\tL250\tL253\tL252\tL255\tL254\tL257\tL256\tL259\tL258\tL318\tL319\tL310\tL311\tL312\tL315\tL316\tL317\tL36\tL37\tL34\tL35\tL32\tL33\tL30\tL31\tL38\tL39\tL224\tL225\tL226\tL227\tL220\tL221\tL222\tL223\tL228\tL229\tL266\tL6\tL7\tL4\tL5\tL2\tL3\tL1\tL8\tL9\tL169\tL168\tL167\tL166\tL165\tL164\tL163\tL162\tL161\tL160\tL295\tL294\tL297\tL296\tL291\tL290\tL293\tL292\tL299\tL298\tL350\tL348\tL351\tL211\tL210\tL347\tL269\tL345\tL344\tL343\tL342\tL341\tL260\tL261\tL262\tL263\tL264\tL265\tL349\tL267\tL439\tL435\tL434\tL437\tL436\tL431\tL430\tL433\tL432\tL123\tL122\tL121\tL120\tL127\tL126\tL125\tL124\tL129\tL128\tL196\tL197\tL194\tL195\tL192\tL193\tL190\tL191\tL198\tL199\tL390\tL391\tL392\tL394\tL395\tL396\tL397\tL398\tL399\tL453\tL452\tL50\tL51\tL52\tL53\tL54\tL55\tL56\tL57\tL58\tL59\tL309\tL308\tL303\tL302\tL301\tL300\tL307\tL306\tL305\tL304\tL237\tL236\tL235\tL234\tL232\tL231\tL230\tL239\tL238\tL404\tL405\tL406\tL407\tL400\tL401\tL402\tL403\tL408\tL409\tL158\tL159\tL152\tL153\tL150\tL151\tL156\tL157\tL154\tL155\tL18\tL19\tL14\tL15\tL16\tL17\tL10\tL11\tL12\tL87\tL86\tL85\tL84\tL83\tL82\tL81\tL80\tL89\tL88\tL372\tL373\tL370\tL278\tL376\tL377\tL374\tL375\tL273\tL272\tL378\tL270\tL277\tL276\tL275\tL274\tL448\tL449\tL440\tL441\tL442\tL443\tL444\tL445\tL446\tL447\tL118\tL119\tL116\tL117\tL114\tL115\tL112\tL113\tL279\tL371\tL181\tL180\tL183\tL182\tL185\tL184\tL187\tL186\tL189\tL188\tL271\tL383\tL382\tL381\tL380\tL387\tL386\tL385\tL384\tL389\tL388\tL65\tL64\tL67\tL66\tL61\tL60\tL63\tL62\tL69\tL68\tL336\tL337\tL334\tL335\tL332\tL333\tL330\tL331\tL338\tL339\tL202\tL203\tL200\tL201\tL206\tL207\tL204\tL205\tL209\tL417\tL416\tL415\tL414\tL413\tL412\tL411\tL410\tL419\tL418\tL145\tL144\tL147\tL146\tL141\tL143\tL142\tL149\tL148\tL94\tL95\tL96\tL97\tL90\tL91\tL92\tL93\tL98\tL99\tL246\tL247\tL244\tL245\tL242\tL243\tL240\tL248\tL249\tL369\tL368\tL365\tL364\tL367\tL366\tL361\tL360\tL363\tL362\tL21\tL20\tL23\tL22\tL25\tL24\tL27\tL26\tL29\tL28\tL451\tL450\tL109\tL108\tL101\tL100\tL103\tL102\tL105\tL107\tL106\tL379\tL178\tL179\tL174\tL175\tL176\tL177\tL170\tL171\tL172\tL173\tL268\tL346\n",
    "MeanLength\t2832\t2865\t1202\t926\t1161\t878\t1381\t1381\t1009\t1175\t1586\t1088\t1873\t1526\t982\t1775\t693\t752\t1717\t1976\t738\t3678\t1598\t1951\t1480\t1160\t1097\t4205\t1823\t1504\t2368\t2476\t2731\t2573\t2573\t2022\t2128\t2378\t2573\t2589\t1013\t419\t1607\t1704\t1134\t2613\t943\t1138\t1028\t1624\t1191\t2304\t1377\t1269\t993\t1280\t1288\t1794\t1620\t1799\t1268\t2700\t2340\t2129\t2625\t2380\t2599\t2230\t1886\t1163\t1379\t1647\t1289\t2180\t1673\t1767\t2180\t1909\t1761\t2333\t2333\t1780\t1780\t1846\t1846\t1493\t3174\t3174\t3174\t1561\t886\t754\t1188\t1794\t842\t1630\t1840\t1262\t1311\t963\t1385\t1317\t1229\t1825\t2045\t2045\t963\t591\t2257\t1691\t2622\t1490\t2427\t2622\t2439\t2431\t1492\t1692\t1230\t522\t1793\t1280\t1757\t674\t1603\t1792\t1985\t1985\t1087\t1249\t1804\t910\t1401\t1658\t1716\t1449\t1140\t877\t1016\t761\t1524\t1007\t2589\t2389\t1353\t1156\t1011\t733\t815\t963\t909\t2264\t1164\t987\t1826\t1771\t1771\t1822\t1742\t3019\t1676\t1110\t1358\t1722\t926\t456\t1227\t1281\t1350\t699\t687\t868\t1189\t612\t769\t1302\t1202\t880\t1833\t2235\t1799\t3101\t1193\t730\t1782\t1203\t998\t1423\t1325\t1857\t1669\t648\t597\t839\t420\t983\t1166\t1789\t1460\t1016\t1198\t1238\t1859\t792\t944\t1097\t1770\t1723\t1309\t1337\t1590\t1448\t1644\t1201\t671\t1370\t1525\t1465\t1980\t799\t873\t703\t1570\t1114\t1525\t1422\t827\t827\t1049\t1295\t1293\t1558\t957\t848\t907\t939\t1326\t1587\t1832\t1039\t1390\t1134\t1189\t1390\t1414\t1801\t1307\t1446\t1849\t1258\t2053\t1046\t1180\t1443\t1310\t1058\t1595\t1022\t1492\t907\t1457\t1710\t1248\t1123\t1097\t2703\t1110\t1073\t1262\t1396\t1143\t1335\t1469\t1445\t1768\t706\t762\t1194\t1236\t803\t1232\t1176\t1964\t1704\t1704\t1710\t913\t1088\t863\t797\t859\t809\t923\t821\t865\t3732\t1063\t1451\t1535\t1412\t1450\t711\t934\t1776\t2214\t1912\t1982\t1926\t1774\t995\t1416\t1782\t1687\t1477\t742\t836\t924\t1005\t1654\t1245\t925\t1150\t1530\t1361\t1685\t1834\t1185\t1220\t1449\t1663\t1654\t2082\t891\t1597\t1410\t1059\t1412\t1409\t999\t1020\t1509\t1509\t1600\t1055\t2443\t2466\t2036\t1235\t1088\t544\t2331\t1157\t3076\t2736\t2736\t883\t1140\t1282\t1254\t1089\t1549\t1590\t1889\t3369\t1628\t3513\t3513\t3722\t1675\t1926\t1189\t1739\t2190\t1867\t781\t1752\t3218\t2962\t2962\t1880\t1542\t1014\t2675\t2949\t1318\t1250\t2026\t1348\t1391\t1198\t1468\t2105\t1837\t920\t1587\t721\t1215\t1677\t667\t1585\t1189\t1418\t1257\t1485\t1072\t990\t2058\t1239\t1262\t1630\t1041\t1123\t1946\t1949\t1797\t1881\t1678\t1556\t1642\t969\t2012\t1640\t1245\t2042\t2289\t1780\t2736\t2736\t2035\t1588\t1554\t1432\t1653\t1532\t1308\n",
    "I_engelmannii_WA10\t1224\t0\t792\t303\t465\t393\t1392\t1392\t486\t822\t609\t519\t954\t594\t837\t843\t537\t378\t909\t336\t759\t240\t447\t1146\t414\t594\t561\t414\t309\t957\t600\t2688\t2724\t684\t681\t870\t1371\t792\t684\t870\t693\t207\t303\t357\t393\t0\t351\t708\t708\t825\t516\t1155\t837\t414\t0\t606\t0\t1737\t1722\t1722\t849\t1293\t876\t876\t1947\t435\t798\t351\t165\t399\t678\t1113\t765\t1221\t1119\t765\t1236\t885\t603\t888\t597\t789\t747\t1323\t1341\t189\t945\t945\t945\t1074\t735\t321\t1293\t1278\t336\t912\t1299\t906\t72\t333\t543\t651\t414\t501\t543\t960\t264\t429\t1062\t1266\t564\t1197\t438\t693\t522\t597\t528\t1698\t1035\t297\t1014\t345\t858\t363\t687\t555\t801\t948\t381\t372\t561\t444\t474\t573\t252\t426\t573\t645\t228\t708\t501\t339\t870\t825\t909\t321\t876\t876\t162\t759\t423\t1035\t450\t375\t792\t612\t702\t306\t831\t876\t981\t468\t723\t1050\t582\t453\t855\t729\t261\t624\t624\t390\t738\t417\t384\t516\t912\t0\t720\t834\t516\t0\t0\t441\t786\t147\t510\t279\t480\t249\t525\t537\t813\t369\t477\t366\t0\t342\t723\t417\t447\t345\t1188\t831\t453\t261\t387\t372\t1173\t117\t381\t0\t324\t855\t948\t333\t663\t633\t723\t711\t438\t1779\t1005\t465\t699\t621\t234\t360\t534\t906\t903\t534\t93\t261\t276\t1158\t915\t540\t1170\t807\t591\t807\t330\t630\t279\t237\t825\t906\t408\t870\t561\t294\t1452\t714\t456\t726\t525\t411\t762\t1035\t0\t534\t552\t2769\t0\t855\t726\t549\t1086\t135\t606\t612\t711\t240\t318\t0\t294\t1095\t579\t705\t453\t822\t981\t405\t642\t1035\t471\t0\t0\t0\t939\t345\t180\t465\t843\t363\t618\t195\t189\t819\t0\t813\t312\t720\t405\t783\t1302\t318\t459\t951\t378\t936\t573\t291\t459\t666\t1383\t528\t1065\t1059\t1104\t369\t300\t411\t531\t1035\t540\t759\t354\t1260\t474\t819\t576\t714\t546\t375\t399\t987\t393\t393\t573\t291\t1638\t1719\t600\t858\t0\t231\t2142\t0\t540\t1701\t1692\t333\t612\t738\t1263\t609\t318\t780\t411\t750\t750\t1458\t1395\t981\t750\t750\t780\t375\t612\t504\t0\t345\t2847\t2802\t2721\t669\t1119\t402\t462\t687\t651\t540\t0\t702\t1188\t807\t297\t624\t477\t627\t0\t339\t441\t0\t0\t432\t633\t258\t0\t456\t852\t270\t909\t804\t540\t0\t672\t1038\t1365\t351\t486\t594\t255\t414\t1698\t1293\t660\t0\t777\t288\t774\t768\t1290\t717\t540\t579\t735\t921\t993\n",
    "I_boomii_WA11\t1005\t0\t792\t303\t465\t393\t1143\t1392\t1392\t384\t675\t693\t732\t675\t786\t738\t606\t378\t966\t327\t828\t282\t459\t531\t498\t438\t480\t507\t396\t501\t1200\t2121\t2277\t1122\t756\t852\t588\t852\t756\t837\t375\t189\t294\t279\t393\t0\t375\t198\t837\t939\t417\t573\t345\t414\t0\t534\t1677\t1746\t1491\t1704\t909\t1485\t2184\t753\t1476\t525\t1473\t1512\t165\t399\t717\t975\t537\t1041\t975\t720\t975\t1122\t495\t1077\t1023\t657\t960\t1431\t1158\t189\t957\t876\t957\t1299\t570\t354\t798\t1026\t336\t789\t1119\t771\t819\t372\t468\t651\t129\t501\t1011\t1065\t351\t339\t954\t1350\t594\t1161\t744\t537\t516\t576\t588\t1206\t1227\t159\t1308\t345\t612\t426\t579\t558\t825\t888\t897\t369\t549\t789\t534\t519\t252\t429\t579\t1161\t345\t591\t480\t375\t873\t861\t906\t321\t150\t873\t162\t162\t0\t1056\t357\t372\t708\t480\t585\t165\t870\t810\t831\t555\t549\t1098\t522\t270\t936\t729\t258\t333\t333\t390\t1026\t417\t384\t516\t657\t0\t888\t705\t504\t0\t132\t633\t366\t150\t510\t204\t480\t444\t468\t525\t813\t588\t477\t537\t0\t0\t342\t954\t420\t363\t348\t717\t552\t456\t345\t375\t372\t1065\t90\t471\t0\t324\t858\t1134\t333\t351\t330\t639\t804\t429\t351\t414\t465\t345\t708\t441\t300\t534\t894\t933\t630\t234\t360\t276\t981\t912\t210\t1311\t1272\t702\t849\t324\t630\t408\t330\t954\t939\t594\t870\t870\t237\t705\t690\t492\t621\t507\t738\t867\t1032\t0\t954\t564\t2790\t0\t795\t864\t531\t456\t399\t534\t666\t717\t240\t318\t0\t0\t327\t732\t456\t561\t891\t648\t354\t759\t609\t240\t0\t0\t0\t987\t345\t180\t285\t492\t363\t585\t0\t513\t822\t0\t399\t312\t546\t726\t510\t552\t318\t501\t831\t348\t1806\t573\t261\t453\t552\t1212\t489\t885\t885\t1062\t369\t366\t411\t483\t447\t462\t630\t354\t408\t564\t651\t714\t483\t546\t372\t411\t966\t393\t528\t663\t441\t1848\t1509\t357\t903\t0\t435\t225\t0\t873\t1266\t1446\t327\t552\t249\t1056\t453\t405\t816\t303\t708\t372\t996\t1296\t1158\t834\t531\t678\t135\t369\t501\t0\t345\t2475\t2826\t2544\t681\t891\t387\t621\t699\t651\t486\t873\t612\t936\t735\t228\t840\t489\t759\t0\t900\t438\t0\t0\t414\t573\t159\t1548\t495\t855\t291\t504\t786\t615\t0\t759\t1827\t1572\t186\t0\t594\t246\t357\t1023\t3366\t441\t0\t1281\t357\t735\t843\t792\t663\t540\t591\t708\t267\t930\n",
    "I_butleri_WA12\t1365\t0\t684\t303\t465\t1134\t1323\t1323\t1389\t507\t186\t1167\t615\t717\t282\t114\t480\t339\t816\t330\t600\t138\t444\t576\t378\t486\t558\t549\t504\t1095\t1041\t2013\t2007\t693\t1014\t1398\t789\t789\t681\t1200\t597\t255\t303\t279\t516\t0\t375\t438\t825\t699\t456\t1416\t867\t414\t0\t549\t1635\t1536\t1575\t1635\t837\t1224\t873\t1899\t1926\t603\t1461\t351\t351\t399\t636\t1029\t333\t939\t1032\t555\t1044\t1137\t510\t1041\t1086\t894\t726\t1437\t1449\t522\t879\t870\t879\t1107\t441\t321\t1266\t1512\t714\t660\t1122\t1032\t708\t321\t543\t636\t210\t504\t972\t927\t267\t429\t864\t354\t666\t1143\t0\t723\t612\t624\t588\t1179\t1005\t225\t1107\t345\t819\t693\t429\t606\t876\t780\t375\t486\t735\t0\t573\t315\t252\t477\t543\t951\t579\t576\t426\t375\t870\t993\t879\t657\t243\t864\t846\t885\t426\t1110\t357\t372\t864\t489\t831\t330\t801\t843\t846\t405\t708\t1365\t549\t387\t747\t729\t258\t705\t333\t384\t261\t351\t384\t516\t891\t0\t771\t747\t513\t0\t132\t612\t1428\t204\t489\t603\t480\t447\t825\t531\t807\t477\t477\t393\t0\t0\t342\t924\t384\t363\t399\t1053\t585\t588\t345\t396\t372\t1083\t90\t486\t0\t324\t1212\t273\t366\t435\t957\t723\t714\t444\t351\t1095\t468\t345\t345\t234\t357\t363\t1326\t1236\t534\t93\t840\t276\t1836\t1008\t414\t1395\t1170\t675\t1008\t330\t675\t435\t210\t747\t897\t537\t873\t873\t300\t714\t534\t492\t777\t531\t765\t930\t1164\t0\t900\t636\t2547\t0\t531\t798\t729\t1041\t612\t597\t588\t717\t240\t315\t0\t300\t717\t525\t393\t462\t876\t822\t360\t501\t930\t705\t0\t0\t0\t1296\t360\t180\t285\t873\t354\t606\t195\t189\t801\t0\t462\t312\t738\t399\t852\t774\t300\t408\t1458\t558\t705\t576\t291\t744\t645\t1269\t585\t699\t1119\t1395\t366\t342\t1200\t540\t447\t594\t438\t354\t1125\t621\t888\t546\t597\t546\t351\t345\t990\t564\t564\t411\t441\t594\t1791\t510\t873\t0\t435\t1143\t0\t852\t1524\t1602\t588\t606\t483\t1047\t780\t402\t801\t711\t594\t594\t1497\t1227\t873\t618\t774\t630\t135\t513\t504\t0\t345\t2667\t2709\t2427\t711\t963\t408\t978\t693\t651\t534\t879\t990\t948\t732\t228\t723\t486\t666\t0\t939\t498\t0\t0\t396\t507\t258\t1227\t357\t909\t309\t543\t789\t687\t0\t672\t2010\t1830\t402\t546\t363\t507\t336\t1905\t2391\t441\t1206\t663\t636\t711\t711\t1278\t672\t543\t498\t681\t585\t987\n",
    "I_georgiana_WB10\t972\t0\t588\t537\t465\t393\t1257\t1377\t1356\t375\t513\t582\t192\t510\t219\t462\t510\t393\t783\t336\t621\t0\t462\t1182\t399\t108\t528\t0\t306\t501\t330\t2079\t2079\t0\t366\t0\t981\t585\t267\t354\t381\t207\t303\t279\t468\t0\t534\t186\t828\t744\t405\t543\t564\t216\t0\t579\t1269\t1473\t1434\t1143\t681\t1347\t876\t630\t1311\t465\t1170\t351\t165\t399\t720\t990\t660\t801\t891\t525\t780\t732\t519\t204\t927\t99\t441\t1227\t1107\t189\t945\t945\t876\t978\t498\t330\t1095\t960\t336\t564\t1089\t774\t741\t240\t354\t486\t447\t501\t684\t912\t267\t243\t849\t1314\t516\t912\t480\t585\t516\t495\t570\t1182\t750\t252\t1074\t342\t501\t354\t621\t411\t657\t624\t210\t372\t396\t0\t441\t534\t252\t510\t519\t855\t228\t567\t447\t117\t483\t0\t861\t333\t882\t843\t708\t759\t261\t930\t288\t351\t615\t423\t459\t246\t837\t0\t795\t360\t699\t1242\t522\t276\t522\t564\t258\t480\t630\t453\t300\t411\t384\t516\t570\t0\t834\t516\t522\t0\t0\t432\t501\t147\t387\t462\t480\t399\t564\t537\t813\t459\t477\t537\t0\t342\t705\t420\t492\t345\t783\t753\t453\t345\t456\t369\t342\t117\t378\t0\t324\t741\t948\t333\t435\t612\t882\t507\t438\t1785\t498\t405\t345\t699\t234\t0\t294\t1026\t819\t441\t0\t204\t276\t1029\t870\t423\t891\t807\t465\t807\t330\t456\t279\t330\t609\t666\t528\t798\t867\t225\t393\t660\t591\t603\t582\t567\t507\t864\t0\t606\t729\t2226\t0\t843\t747\t531\t456\t135\t606\t630\t408\t240\t285\t0\t285\t321\t585\t498\t300\t552\t621\t405\t360\t264\t570\t0\t0\t0\t1017\t342\t180\t285\t789\t459\t426\t0\t189\t735\t0\t399\t312\t657\t618\t303\t528\t318\t408\t555\t228\t1608\t900\t291\t453\t540\t411\t483\t636\t1131\t1293\t369\t0\t231\t483\t504\t381\t234\t354\t600\t366\t651\t390\t417\t546\t375\t351\t669\t273\t522\t501\t294\t657\t819\t453\t495\t0\t435\t813\t0\t483\t780\t825\t516\t441\t249\t1158\t582\t354\t750\t777\t645\t453\t1269\t1401\t927\t333\t210\t387\t135\t420\t0\t0\t345\t2445\t2589\t2121\t711\t972\t387\t537\t699\t651\t381\t756\t672\t1398\t882\t228\t711\t480\t708\t0\t339\t360\t0\t0\t414\t561\t192\t972\t366\t948\t102\t282\t657\t423\t0\t657\t651\t654\t273\t219\t594\t192\t336\t1668\t2034\t441\t777\t690\t438\t534\t777\t1125\t453\t540\t498\t546\t318\t786\n",
    "I_mattaponica_WB11\t1065\t1212\t657\t375\t465\t393\t1392\t1383\t1392\t408\t744\t636\t894\t522\t327\t417\t516\t378\t840\t225\t759\t294\t432\t780\t498\t381\t480\t111\t357\t456\t330\t2130\t2130\t612\t405\t1110\t852\t852\t759\t465\t528\t168\t300\t354\t240\t0\t375\t408\t750\t870\t591\t369\t792\t372\t0\t531\t1398\t1590\t1506\t1680\t849\t1428\t1764\t870\t1359\t600\t1299\t1521\t1494\t399\t717\t909\t522\t975\t1023\t648\t969\t630\t519\t942\t960\t804\t849\t1152\t1077\t189\t939\t957\t939\t1206\t738\t651\t996\t1419\t336\t654\t1116\t954\t657\t333\t462\t486\t345\t1053\t948\t1104\t267\t243\t876\t1410\t396\t1083\t489\t510\t0\t585\t621\t1491\t1236\t219\t1008\t345\t834\t423\t429\t561\t804\t756\t333\t375\t504\t0\t0\t459\t252\t402\t513\t492\t330\t732\t417\t324\t483\t363\t867\t321\t876\t876\t162\t852\t0\t1107\t291\t375\t810\t534\t837\t249\t825\t786\t687\t480\t702\t783\t168\t282\t618\t621\t267\t330\t333\t549\t483\t432\t384\t105\t588\t0\t873\t723\t516\t0\t0\t438\t813\t0\t387\t795\t480\t444\t351\t537\t810\t510\t468\t378\t0\t336\t918\t372\t447\t213\t906\t693\t456\t345\t279\t366\t783\t90\t441\t0\t318\t645\t1032\t333\t357\t426\t816\t495\t438\t348\t507\t384\t345\t696\t441\t300\t429\t759\t1005\t495\t234\t717\t276\t1005\t1020\t483\t795\t1056\t441\t795\t330\t582\t279\t210\t798\t873\t408\t558\t870\t0\t462\t720\t714\t654\t534\t552\t528\t1041\t0\t597\t930\t2445\t0\t492\t810\t531\t834\t636\t471\t900\t447\t240\t306\t0\t0\t327\t0\t453\t381\t897\t1008\t330\t945\t561\t240\t0\t0\t0\t858\t345\t180\t285\t447\t363\t489\t189\t189\t795\t0\t816\t312\t552\t690\t846\t552\t318\t405\t915\t0\t1971\t1041\t288\t453\t444\t1065\t687\t810\t900\t1269\t363\t417\t1212\t483\t690\t591\t420\t354\t564\t576\t867\t726\t540\t276\t333\t660\t813\t483\t618\t582\t348\t1326\t1776\t489\t858\t0\t435\t1248\t0\t483\t1212\t1272\t267\t495\t417\t1071\t672\t399\t699\t687\t759\t570\t1305\t1395\t990\t708\t789\t657\t228\t423\t0\t0\t711\t2577\t2652\t2718\t732\t1236\t408\t666\t699\t651\t624\t906\t741\t936\t840\t228\t375\t447\t690\t0\t900\t441\t0\t0\t414\t573\t156\t891\t297\t723\t213\t852\t765\t753\t0\t840\t1464\t930\t258\t0\t675\t498\t402\t1941\t1722\t441\t0\t618\t252\t717\t777\t690\t705\t537\t351\t564\t216\t957\n",
    "I_lithophila_WB12\t1152\t0\t546\t303\t450\t918\t1404\t1188\t1308\t594\t969\t639\t945\t609\t282\t930\t564\t378\t708\t336\t723\t150\t465\t1788\t498\t468\t420\t0\t354\t501\t735\t2028\t2037\t0\t0\t363\t1545\t1362\t315\t519\t564\t168\t300\t342\t486\t0\t450\t411\t645\t627\t333\t228\t516\t408\t0\t576\t1479\t1572\t1428\t1686\t801\t1359\t1119\t579\t1440\t0\t1266\t1437\t165\t399\t720\t915\t555\t1185\t771\t858\t1035\t414\t543\t264\t702\t810\t810\t690\t348\t189\t876\t930\t930\t876\t813\t324\t1329\t1053\t351\t657\t1053\t927\t735\t336\t543\t654\t210\t501\t831\t1026\t267\t339\t897\t1212\t516\t1089\t624\t288\t489\t594\t519\t1404\t696\t0\t0\t345\t315\t351\t426\t471\t768\t654\t198\t372\t642\t114\t216\t399\t252\t501\t543\t597\t279\t573\t381\t375\t0\t0\t906\t321\t228\t876\t759\t732\t345\t1764\t288\t375\t630\t624\t456\t309\t858\t966\t918\t606\t702\t1188\t465\t225\t645\t597\t261\t468\t636\t390\t447\t420\t384\t447\t789\t0\t771\t549\t507\t0\t147\t591\t954\t147\t387\t774\t393\t447\t816\t339\t807\t474\t477\t399\t0\t342\t726\t417\t315\t339\t891\t669\t459\t333\t342\t312\t942\t81\t489\t0\t321\t744\t837\t321\t306\t828\t723\t855\t435\t1740\t909\t447\t345\t345\t234\t144\t468\t900\t885\t534\t0\t435\t276\t1098\t705\t414\t795\t873\t846\t858\t330\t615\t336\t330\t795\t915\t333\t504\t873\t321\t699\t882\t372\t792\t486\t561\t609\t1014\t0\t783\t945\t2544\t0\t762\t849\t606\t456\t579\t480\t960\t714\t240\t312\t0\t285\t324\t612\t429\t255\t789\t747\t0\t768\t978\t672\t0\t0\t0\t1050\t312\t180\t285\t549\t456\t552\t0\t558\t852\t0\t579\t312\t735\t690\t897\t630\t0\t501\t909\t165\t1749\t780\t291\t450\t477\t1278\t510\t687\t1806\t1305\t369\t96\t714\t486\t948\t531\t435\t354\t0\t357\t807\t576\t480\t546\t372\t402\t846\t375\t393\t591\t345\t738\t1110\t435\t657\t0\t435\t972\t0\t0\t1002\t1041\t249\t483\t351\t744\t618\t336\t813\t591\t795\t627\t1338\t1482\t1185\t876\t402\t639\t324\t417\t504\t0\t345\t2370\t2712\t2586\t771\t1278\t375\t708\t696\t651\t363\t807\t813\t1494\t765\t228\t690\t303\t666\t0\t1002\t438\t0\t0\t417\t570\t258\t1134\t387\t852\t189\t870\t645\t654\t0\t708\t1392\t1284\t186\t579\t699\t192\t336\t1332\t870\t441\t168\t1473\t576\t627\t696\t1269\t831\t540\t528\t354\t519\t324\n",
    "I_appalachiana_WC10\t1236\t0\t684\t303\t465\t393\t1398\t1374\t1383\t1221\t597\t516\t693\t594\t786\t534\t549\t363\t873\t315\t771\t345\t444\t1989\t486\t483\t759\t600\t303\t687\t1200\t1431\t2145\t1791\t1389\t1533\t792\t1476\t1791\t1437\t660\t168\t303\t357\t357\t0\t375\t432\t714\t747\t342\t864\t642\t414\t0\t606\t1722\t1647\t1722\t1533\t777\t1758\t2145\t2136\t2340\t600\t1746\t351\t1734\t399\t720\t897\t600\t1221\t948\t657\t792\t915\t552\t1077\t981\t810\t1005\t1209\t1344\t189\t945\t945\t876\t1296\t567\t663\t975\t1053\t336\t765\t1053\t753\t735\t288\t633\t540\t213\t501\t996\t1188\t234\t243\t702\t1311\t987\t837\t507\t915\t1008\t648\t699\t1254\t1311\t300\t1002\t345\t1362\t489\t429\t663\t840\t780\t978\t375\t438\t315\t690\t459\t252\t432\t468\t795\t474\t573\t336\t360\t1671\t1512\t744\t321\t216\t936\t162\t162\t423\t1071\t348\t375\t678\t504\t513\t198\t801\t855\t831\t363\t696\t1029\t522\t444\t1080\t645\t264\t627\t564\t450\t759\t429\t384\t606\t906\t0\t744\t576\t516\t0\t192\t618\t1212\t213\t387\t282\t393\t387\t465\t537\t813\t531\t477\t402\t0\t342\t780\t417\t363\t279\t882\t672\t453\t258\t129\t372\t897\t117\t489\t0\t321\t861\t948\t333\t300\t723\t741\t705\t438\t345\t696\t444\t345\t621\t234\t360\t378\t948\t1014\t396\t222\t627\t276\t1311\t843\t423\t1278\t1170\t375\t1212\t330\t615\t315\t0\t174\t828\t519\t522\t870\t342\t630\t729\t393\t486\t534\t567\t726\t1032\t0\t543\t633\t2754\t0\t936\t834\t555\t840\t615\t492\t390\t573\t240\t318\t0\t579\t321\t507\t501\t372\t900\t900\t210\t474\t687\t744\t0\t0\t0\t1017\t345\t177\t285\t615\t1014\t471\t192\t465\t840\t0\t609\t312\t735\t666\t993\t789\t318\t486\t1098\t348\t2196\t573\t291\t420\t450\t1245\t450\t1116\t633\t1209\t366\t300\t411\t483\t297\t537\t699\t354\t1665\t579\t786\t705\t447\t552\t375\t402\t957\t453\t453\t609\t294\t1689\t1770\t465\t540\t0\t435\t1548\t0\t1728\t1440\t1425\t333\t483\t249\t1341\t570\t417\t708\t750\t708\t477\t1452\t1473\t1020\t876\t648\t849\t135\t531\t477\t0\t345\t2481\t120\t2760\t651\t1779\t396\t669\t702\t630\t381\t939\t792\t1068\t606\t228\t768\t471\t600\t0\t930\t486\t0\t0\t417\t636\t198\t1206\t168\t1089\t273\t801\t732\t585\t0\t774\t1122\t1365\t489\t501\t591\t414\t339\t1395\t1506\t441\t0\t1434\t417\t675\t774\t1326\t858\t540\t471\t729\t702\t885\n",
    "I_valida_WC11\t1371\t1095\t804\t303\t465\t948\t1398\t1398\t1398\t714\t513\t645\t570\t702\t741\t831\t618\t378\t1008\t336\t768\t459\t462\t2106\t495\t486\t786\t468\t477\t1203\t1353\t2007\t2055\t756\t1434\t1200\t822\t1419\t1611\t870\t570\t228\t303\t357\t0\t0\t363\t384\t837\t903\t498\t1188\t867\t414\t0\t531\t1677\t1677\t1584\t1704\t885\t1779\t876\t2040\t2370\t600\t1296\t351\t165\t399\t1548\t1152\t597\t1050\t1215\t930\t1188\t972\t603\t972\t1134\t1155\t546\t1482\t1503\t189\t876\t876\t876\t1272\t645\t618\t975\t1167\t336\t801\t1260\t1326\t912\t333\t546\t474\t213\t504\t1029\t930\t234\t393\t1083\t1452\t987\t1074\t156\t969\t1080\t537\t660\t1248\t1341\t369\t759\t345\t879\t477\t972\t852\t819\t747\t876\t372\t627\t0\t609\t618\t252\t510\t444\t870\t384\t732\t468\t360\t870\t840\t990\t321\t216\t1002\t873\t903\t384\t1194\t402\t375\t807\t591\t894\t279\t912\t912\t990\t513\t693\t1119\t597\t435\t678\t732\t261\t333\t642\t513\t807\t444\t450\t1173\t768\t0\t780\t546\t516\t0\t228\t636\t1443\t228\t369\t858\t480\t447\t651\t534\t813\t486\t477\t423\t0\t0\t342\t903\t417\t363\t339\t1122\t732\t459\t321\t396\t372\t1113\t309\t489\t0\t324\t852\t1137\t333\t459\t783\t906\t816\t438\t345\t1074\t468\t345\t345\t234\t360\t462\t741\t516\t597\t276\t873\t267\t1467\t807\t372\t1278\t1278\t909\t1278\t330\t630\t405\t210\t891\t969\t600\t867\t867\t264\t699\t957\t492\t498\t567\t552\t822\t1110\t0\t1020\t654\t2577\t0\t1020\t753\t678\t456\t531\t612\t516\t447\t240\t318\t0\t747\t324\t0\t519\t336\t933\t915\t210\t591\t825\t852\t0\t0\t0\t954\t345\t180\t285\t855\t360\t657\t192\t189\t852\t0\t729\t312\t738\t396\t705\t726\t315\t501\t1941\t348\t984\t573\t291\t732\t678\t1440\t690\t855\t984\t1356\t369\t291\t411\t828\t816\t471\t828\t354\t1581\t684\t798\t753\t627\t375\t375\t402\t918\t621\t501\t609\t441\t1989\t2088\t417\t813\t0\t435\t1947\t0\t870\t1680\t1599\t249\t618\t249\t1365\t636\t405\t816\t528\t792\t477\t1431\t1389\t990\t876\t687\t801\t135\t576\t504\t0\t345\t2673\t54\t2589\t705\t699\t408\t924\t699\t648\t381\t867\t957\t957\t798\t228\t975\t246\t741\t0\t951\t429\t0\t0\t417\t498\t258\t1341\t216\t1140\t252\t603\t720\t552\t0\t756\t1467\t1665\t141\t864\t381\t711\t414\t1464\t2211\t441\t0\t1494\t690\t735\t735\t1317\t795\t540\t480\t750\t636\t957\n"
   ]
  },
  {
   "cell_type": "markdown",
   "metadata": {},
   "source": [
    "#### Generate statistics"
   ]
  },
  {
   "cell_type": "code",
   "execution_count": null,
   "metadata": {
    "collapsed": true
   },
   "outputs": [],
   "source": [
    "python /Applications/Phylogenetics/HybPiper/HybPiper/hybpiper_stats.py sequence_lengths.txt namelist.txt > statistics.txt"
   ]
  },
  {
   "cell_type": "code",
   "execution_count": null,
   "metadata": {
    "collapsed": true
   },
   "outputs": [],
   "source": [
    "less statistics.txt\n",
    "Name    NumReads        ReadsMapped     PctOnTarget     GenesMapped     GenesWithContigs        GenesWithSeqs   GenesAt25pct    GenesAt50pct    GenesAt75pct    Genesat150pct   ParalogWarnings\n",
    "I_melanopoda_WG11       902316  451481  0.500   422     415     409     356     181     79      1       20\n",
    "I_microvela_WD10        1213694 607293  0.500   426     414     408     353     195     91      2       24\n",
    "I_septentrionalis_WE10  812661  406427  0.500   422     413     408     352     166     80      1       24\n",
    "I_appalachiana_WC10     1417393 708861  0.500   425     414     408     346     161     69      0       24\n",
    "I_storkii_WF12  649777  325088  0.500   421     410     400     324     143     58      1       8\n",
    "I_lithophila_WB12       790980  395595  0.500   424     405     396     321     142     54      2       8\n",
    "I_engelmannii_WA10      406510  203355  0.500   421     409     406     341     161     62      1       11\n",
    "I_junciformis_WH10      656061  328141  0.500   420     414     405     329     137     65      2       14\n",
    "I_butleri_WA12  696404  348321  0.500   422     414     408     351     155     79      0       14\n",
    "I_boliviensis_WD12      914794  457685  0.500   424     414     406     324     127     44      2       11\n",
    "I_boomii_WA11   532021  266105  0.500   420     413     405     339     141     61      1       5\n",
    "I_melanopoda_WH11       923495  462018  0.500   421     414     408     358     183     83      1       12\n",
    "I_flaccida_WD11 534957  267729  0.500   420     413     409     352     181     86      2       15\n",
    "I_flaccida_WE11 1396498 698613  0.500   426     416     406     360     199     92      1       15\n",
    "I_valida_WC11   985647  493162  0.500   422     413     408     350     183     86      0       11\n",
    "I_virginica_WF10        627113  313586  0.500   424     412     408     343     155     61      3       24\n",
    "I_hyemalis_WG10 1009503 504953  0.500   423     414     407     356     185     81      2       17\n",
    "I_georgiana_WB10        744855  372386  0.500   422     410     398     300     114     45      1       9\n",
    "I_louisianensis_WC12    493236  246779  0.500   418     413     404     317     126     50      1       14\n",
    "I_piedmontana_WF11      827266  413804  0.500   420     415     408     356     185     73      2       19\n",
    "I_mattaponica_WB11      620550  310353  0.500   424     411     400     330     139     57      0       10\n",
    "I_tuckermanii_WE12      1585951 793293  0.500   427     415     408     360     209     107     3       15"
   ]
  },
  {
   "cell_type": "markdown",
   "metadata": {},
   "source": [
    "#### Identify potential intron/non-coding sequences"
   ]
  },
  {
   "cell_type": "code",
   "execution_count": null,
   "metadata": {
    "collapsed": true
   },
   "outputs": [],
   "source": [
    "for i in I_*; do python /Applications/Phylogenetics/HybPiper/HybPiper/intronerate.py --prefix $i; done"
   ]
  },
  {
   "cell_type": "markdown",
   "metadata": {},
   "source": [
    "#### Extract exons, introns, potential paralogs from data -- LOCAL\n",
    "Below:"
   ]
  },
  {
   "cell_type": "code",
   "execution_count": null,
   "metadata": {
    "collapsed": true
   },
   "outputs": [],
   "source": [
    "python /Applications/Phylogenetics/HybPiper/HybPiper/retrieve_sequences.py Isoetes_Unique_GoFlag_target_scaffolds.fasta . dna\n",
    "python /Applications/Phylogenetics/HybPiper/HybPiper/retrieve_sequences.py Isoetes_Unique_GoFlag_target_scaffolds.fasta . intron\n",
    "python /Applications/Phylogenetics/HybPiper/HybPiper/retrieve_sequences.py Isoetes_Unique_GoFlag_target_scaffolds.fasta . supercontig\n",
    "while read i; do python /Applications/Phylogenetics/HybPiper/HybPiper/paralog_investigator.py $i; done < namelist.txt \n",
    "while read i; do python /Applications/Phylogenetics/HybPiper/HybPiper/paralog_retriever.py namelist.txt $i > $i.paralogs.fasta; done < all_loci.txt"
   ]
  },
  {
   "cell_type": "markdown",
   "metadata": {},
   "source": [
    "#### Align, trim, and run RAxML for markers -- LOCAL"
   ]
  },
  {
   "cell_type": "code",
   "execution_count": null,
   "metadata": {
    "collapsed": true
   },
   "outputs": [],
   "source": [
    "for i in *.paralogs.fasta; do mafft --auto $i > MAFFT.$i; done\n",
    "for i in MAFFT*.paralogs.fasta; do /Applications/Phylogenetics/trimAl/source/trimal -automated1 -in $i -out TRIM.$i; done\n",
    "for i in TRIM*.paralogs.fasta; do raxmlHPC -s $i -n $i -m GTRGAMMA -f a -x 1 -N 100 -d -p 3556; done\n"
   ]
  },
  {
   "cell_type": "markdown",
   "metadata": {},
   "source": [
    "#### Different trimming parameters and names -- LOCAL"
   ]
  },
  {
   "cell_type": "code",
   "execution_count": null,
   "metadata": {
    "collapsed": true
   },
   "outputs": [],
   "source": [
    "#AUTO\n",
    "/Applications/Phylogenetics/trimAl/source/trimal -in $i -out AUTO.TRIM.$i -automated1"
   ]
  },
  {
   "cell_type": "code",
   "execution_count": null,
   "metadata": {
    "collapsed": true
   },
   "outputs": [],
   "source": [
    "#STRICT\n",
    "/Applications/Phylogenetics/trimAl/source/trimal -in $i -out STRICT.TRIM.$i -strict"
   ]
  },
  {
   "cell_type": "code",
   "execution_count": null,
   "metadata": {
    "collapsed": true
   },
   "outputs": [],
   "source": [
    "#SUPERSTRICT\n",
    "/Applications/Phylogenetics/trimAl/source/trimal -in $i -out SUPERSTRICT.TRIM.$i -gt 0.8 -st 0.01 -resoverlap 0.9 -seqoverlap 80"
   ]
  },
  {
   "cell_type": "markdown",
   "metadata": {},
   "source": [
    "#### Command for batch aligning, trimming, tree-building with just loci with certain number of seqs -- HPC"
   ]
  },
  {
   "cell_type": "code",
   "execution_count": null,
   "metadata": {
    "collapsed": true
   },
   "outputs": [],
   "source": [
    "for i in FILES; do num=$(grep -c \">\" $i); if [ $num = 22 ] ; then COMMAND; fi; done"
   ]
  },
  {
   "cell_type": "markdown",
   "metadata": {},
   "source": [
    "#### Here is an example SLURM script for running IQ-TREE"
   ]
  },
  {
   "cell_type": "code",
   "execution_count": null,
   "metadata": {
    "collapsed": true
   },
   "outputs": [],
   "source": [
    "#!/bin/bash -l\n",
    "\n",
    "#SBATCH --mail-user=pscha005@odu.edu\n",
    "#SBATCH --mail-type=END\n",
    "#SBATCH --job-name=IQTREE\n",
    "\n",
    "for i in SUPER*.FNA ; do num=$(grep -c \">\" $i ) ; if [ $num = 22 ] ; then /scratch-lustre/pscha005/scripts/iqtree-1.6.11-Linux/bin/iqtree -s $i -m MFP -bb 5000 -alrt 5000 -nm 5000 ; fi ; done"
   ]
  },
  {
   "cell_type": "markdown",
   "metadata": {},
   "source": [
    "#### For introns, no loci have 100% data, so filtering to loci with >50% and > 75% of taxa."
   ]
  },
  {
   "cell_type": "markdown",
   "metadata": {},
   "source": [
    "## 2. Phyluce Allele Phasing\n",
    "\n"
   ]
  },
  {
   "cell_type": "markdown",
   "metadata": {},
   "source": [
    "### 2.1 Phyluce-based approach. First assemble Phyluce contigs for use as reference in step 2.2.\n",
    "\n",
    "Working Directory: /Volumes/Samsung_T5/IsoetesDNA/GoFlag/Phyluce/"
   ]
  },
  {
   "cell_type": "code",
   "execution_count": null,
   "metadata": {
    "collapsed": true
   },
   "outputs": [],
   "source": [
    "phyluce_assembly_get_match_counts --locus-db ./noSinensisRef/target_loci/probe.matches.sqlite --taxon-list-config polyploids.txt --taxon-group 'polyploids' --incomplete-matrix --output ./polyploids/polyploids-incomplete.conf"
   ]
  },
  {
   "cell_type": "code",
   "execution_count": null,
   "metadata": {
    "collapsed": true
   },
   "outputs": [],
   "source": [
    "phyluce_assembly_get_fastas_from_match_counts --contigs ./noSinensisRef/assembly/contigs/ --locus-db ./noSinensisRef/target_loci/probe.matches.sqlite --match-count-output ./polyploids/polyploids-incomplete.conf --output ./polyploids/polyploids.incomplete.fasta --incomplete-matrix polyploids-incomplete.incomplete --log-path ./polyploids/"
   ]
  },
  {
   "cell_type": "code",
   "execution_count": null,
   "metadata": {
    "collapsed": true
   },
   "outputs": [],
   "source": [
    "phyluce_align_seqcap_align --fasta ./polyploids/polyploids.incomplete.fasta --output ./polyploids/mafft-incomplete/ --taxa 11 --incomplete-matrix --output-format fasta --log-path ./polyploids/"
   ]
  },
  {
   "cell_type": "code",
   "execution_count": null,
   "metadata": {
    "collapsed": true
   },
   "outputs": [],
   "source": [
    "phyluce_align_seqcap_align --fasta ./polyploids/polyploids.incomplete.fasta --output ./polyploids/mafft-incomplete-internal-trimmed/ --taxa 11 --log-path ./polyploids/ --output-format fasta --no-trim --incomplete-matrix"
   ]
  },
  {
   "cell_type": "code",
   "execution_count": null,
   "metadata": {
    "collapsed": true
   },
   "outputs": [],
   "source": [
    "phyluce_align_get_gblocks_trimmed_alignments_from_untrimmed --alignments ./polyploids/mafft-incomplete-internal-trimmed/ --output ./polyploids/mafft-incomplete-internal-trimmed-gblocks/ --output-format fasta --log ./polyploids/"
   ]
  },
  {
   "cell_type": "code",
   "execution_count": null,
   "metadata": {
    "collapsed": true
   },
   "outputs": [],
   "source": [
    "phyluce_align_remove_locus_name_from_nexus_lines --alignments ./polyploids/mafft-incomplete-internal-trimmed-gblocks/ --output ./polyploids/mafft-incomplete-internal-trimmed-gblocks-cleaned/ --output-format fasta --log-path ./polyploids/"
   ]
  },
  {
   "cell_type": "code",
   "execution_count": null,
   "metadata": {
    "collapsed": true
   },
   "outputs": [],
   "source": [
    "for i in Isoetes_* ; do spades.py -1 $i/split-adapter-quality-trimmed/*READ1* -2 $i/split-adapter-quality-trimmed/*READ2* --careful -o $i/split-adapter-quality-trimmed/spades/ ; done\n",
    "\n",
    "for i in Isoetes_* ; do cp $i/split-adapter-quality-trimmed/spades_filtered/scaffolds.fasta $i/split-adapter-quality-trimmed/ ; bwa index $i/split-adapter-quality-trimmed/scaffolds.fasta ; bwa mem $i/split-adapter-quality-trimmed/scaffolds.fasta $i/split-adapter-quality-trimmed/*R1* $i/split-adapter-quality-trimmed/*R2* > $i/split-adapter-quality-trimmed/$i.sam ; samtools view -S -b $i/split-adapter-quality-trimmed/$i.sam > $i/split-adapter-quality-trimmed/$i.bam ; samtools sort $i/split-adapter-quality-trimmed/$i.bam $i/split-adapter-quality-trimmed/$i.sorted ; samtools phase -AF -b $i $i/split-adapter-quality-trimmed/$i.sorted.bam ; done"
   ]
  },
  {
   "cell_type": "markdown",
   "metadata": {},
   "source": [
    "### 2.2 Phase polyploids using samtools, reinput phased files into Phyluce to build target loci"
   ]
  },
  {
   "cell_type": "code",
   "execution_count": null,
   "metadata": {
    "collapsed": true
   },
   "outputs": [],
   "source": [
    "### BWA\n",
    "### Loops through all sample directories, build BWA index from SPAdes contigs, build SAM alignment of samples fastq reads against contigs\n",
    "for i in Isoetes_* ; do bwa index $i/split-adapter-quality-trimmed/spades/contigs.fasta ; bwa mem $i/split-adapter-quality-trimmed/spades/contigs.fasta $i/split-adapter-quality-trimmed/*READ1* $i/split-adapter-quality-trimmed/*READ2* > $i/split-adapter-quality-trimmed/spades/$i.sam; done\n",
    "\n",
    "### Convert SAM to BAM files\n",
    "for i in Isoetes_* ; do samtools view -bS $i/split-adapter-quality-trimmed/spades/$i.sam > $i/split-adapter-quality-trimmed/spades/$i.bam ; done\n",
    "\n",
    "### Sort BAM files prior to phaseing\n",
    "for i in Isoetes_* ; do samtools sort -o $i/split-adapter-quality-trimmed/spades/$i.sorted.bam $i/split-adapter-quality-trimmed/spades/$i.bam ; done\n",
    "\n",
    "### Phase BAM files\n",
    "for i in Isoetes_* ; do samtools phase -b $i/split-adapter-quality-trimmed/spades/$i $i/split-adapter-quality-trimmed/spades/$i.sorted.bam ; done\n",
    "\n",
    "### Extract reads from phased BAM files\n",
    "for i in Isoetes_* ; do samtools sort -n -o $i/split-adapter-quality-trimmed/spades/$i.0.sort.bam $i/split-adapter-quality-trimmed/spades/$i.0.bam && samtools fixmate -m $i/split-adapter-quality-trimmed/spades/$i.0.sort.bam $i/split-adapter-quality-trimmed/spades/$i.0.fixMate.bam && samtools sort -o $i/split-adapter-quality-trimmed/spades/$i.0.sort.bam $i/split-adapter-quality-trimmed/spades/$i.0.fixMate.bam && samtools markdup -r $i/split-adapter-quality-trimmed/spades/$i.0.sort.bam $i/split-adapter-quality-trimmed/spades/$i.0.rmDup.bam && bam2fastq $i/split-adapter-quality-trimmed/spades/$i.0.rmDup.bam -o $i/split-adapter-quality-trimmed/spades/Phase0_READ#.fastq ; done \n",
    "for i in Isoetes_* ; do samtools sort -n -o $i/split-adapter-quality-trimmed/spades/$i.1.sort.bam $i/split-adapter-quality-trimmed/spades/$i.1.bam && samtools fixmate -m $i/split-adapter-quality-trimmed/spades/$i.1.sort.bam $i/split-adapter-quality-trimmed/spades/$i.1.fixMate.bam && samtools sort -o $i/split-adapter-quality-trimmed/spades/$i.1.sort.bam $i/split-adapter-quality-trimmed/spades/$i.1.fixMate.bam && samtools markdup -r $i/split-adapter-quality-trimmed/spades/$i.1.sort.bam $i/split-adapter-quality-trimmed/spades/$i.1.rmDup.bam && bam2fastq $i/split-adapter-quality-trimmed/spades/$i.1.rmDup.bam -o $i/split-adapter-quality-trimmed/spades/Phase1_READ#.fastq ; done \n",
    "\n"
   ]
  },
  {
   "cell_type": "code",
   "execution_count": null,
   "metadata": {
    "collapsed": true
   },
   "outputs": [],
   "source": [
    "samtools sort -n -o Isoetes_septentrionalis.0.sort.bam Isoetes_septentrionalis.0.bam \n",
    "\n",
    "samtools fixmate -m Isoetes_septentrionalis.0.sort.bam Isoetes_septentrionalis.fixMate.bam\n",
    "\n",
    "samtools sort -o Isoetes_septentrionalis.0.sort.bam Isoetes_septentrionalis.fixMate.bam \n",
    "\n",
    "samtools markdup -r Isoetes_septentrionalis.0.sort.bam Isoetes_septentrionalis.rmDup.bam\n",
    "\n",
    "bam2fastq Isoetes_septentrionalis.rmDup.bam -o Isoetes_septPhase0-R#.fastq\n",
    "\n",
    "samtools sort -n -o sort.bam Isoetes_septentrionalis.0.bam && samtools fixmate -m sort.bam fixMate.bam && samtools sort -o sort.bam fixMate.bam && samtools markdup -r sort.bam rmDup.bam && bam2fastq rmDup.bam -o Isoetes_septPhase0-R#.fastq\n",
    "\n"
   ]
  },
  {
   "cell_type": "markdown",
   "metadata": {},
   "source": [
    "### 2.3 Move fastqs into sample directories like before and make sample file e.g.\n",
    "\n",
    "phasedSamples.txt\n",
    "\n",
    "[samples]\n",
    "Isoetes_appPhase0:/Volumes/Samsung_T5/IsoetesDNA/GoFlag/Phyluce/Isoetes_appPhase0/split-adapter-quality-trimmed/\n",
    "Isoetes_appPhase1:/Volumes/Samsung_T5/IsoetesDNA/GoFlag/Phyluce/Isoetes_appPhase1/split-adapter-quality-trimmed/\n",
    "Isoetes_boliPhase0:/Volumes/Samsung_T5/IsoetesDNA/GoFlag/Phyluce/Isoetes_boliPhase0/\n",
    "Isoetes_boliPhase1:/Volumes/Samsung_T5/IsoetesDNA/GoFlag/Phyluce/Isoetes_boliPhase1/\n",
    "Isoetes_hyemPhase0:/Volumes/Samsung_T5/IsoetesDNA/GoFlag/Phyluce/Isoetes_hyemPhase0/\n",
    "Isoetes_hyemPhase1:/Volumes/Samsung_T5/IsoetesDNA/GoFlag/Phyluce/Isoetes_hyemPhase1/\n",
    "Isoetes_juncPhase0:/Volumes/Samsung_T5/IsoetesDNA/GoFlag/Phyluce/Isoetes_juncPhase0/\n",
    "Isoetes_juncPhase1:/Volumes/Samsung_T5/IsoetesDNA/GoFlag/Phyluce/Isoetes_juncPhase1/\n",
    "Isoetes_louiPhase0:/Volumes/Samsung_T5/IsoetesDNA/GoFlag/Phyluce/Isoetes_louiPhase0/\n",
    "Isoetes_louiPhase1:/Volumes/Samsung_T5/IsoetesDNA/GoFlag/Phyluce/Isoetes_louiPhase1/\n",
    "Isoetes_septPhase0:/Volumes/Samsung_T5/IsoetesDNA/GoFlag/Phyluce/Isoetes_septPhase0/split-adapter-quality-trimmed/\n",
    "Isoetes_septPhase1:/Volumes/Samsung_T5/IsoetesDNA/GoFlag/Phyluce/Isoetes_septPhase1/split-adapter-quality-trimmed/\n",
    "Isoetes_tuckPhase0:/Volumes/Samsung_T5/IsoetesDNA/GoFlag/Phyluce/Isoetes_tuckPhase0/split-adapter-quality-trimmed/\n",
    "Isoetes_tuckPhase1:/Volumes/Samsung_T5/IsoetesDNA/GoFlag/Phyluce/Isoetes_tuckPhase1/split-adapter-quality-trimmed/\n",
    "Isoetes_virgPhase0:/Volumes/Samsung_T5/IsoetesDNA/GoFlag/Phyluce/Isoetes_virgPhase0/\n",
    "Isoetes_virgPhase1:/Volumes/Samsung_T5/IsoetesDNA/GoFlag/Phyluce/Isoetes_virgPhase1/\n",
    "\n",
    "\n",
    "phased-dataset.txt\n",
    "\n",
    "[phased-dataset]\n",
    "Isoetes_appPhase0\n",
    "Isoetes_appPhase1\n",
    "Isoetes_boliPhase0\n",
    "Isoetes_boliPhase1\n",
    "Isoetes_hyemPhase0\n",
    "Isoetes_hyemPhase1\n",
    "Isoetes_juncPhase0\n",
    "Isoetes_juncPhase1\n",
    "Isoetes_louiPhase0\n",
    "Isoetes_louiPhase1\n",
    "Isoetes_septPhase0\n",
    "Isoetes_septPhase1\n",
    "Isoetes_tuckPhase0\n",
    "Isoetes_tuckPhase1\n",
    "Isoetes_virgPhase0\n",
    "Isoetes_virgPhase1"
   ]
  },
  {
   "cell_type": "code",
   "execution_count": null,
   "metadata": {
    "collapsed": true
   },
   "outputs": [],
   "source": [
    "phyluce_assembly_assemblo_spades --config phasedSamples.txt --output ./phased-assemblies/ \n",
    "\n",
    "phyluce_assembly_match_contigs_to_probes --contigs ./phased-assemblies/contigs/ --probes Isoetes_GoFlag_probeset.fasta --output ./phased-assemblies/target_loci/ --log-path ./phased-assemblies/\n",
    "\n",
    "phyluce_assembly_get_match_counts --locus-db ./phased-assemblies/target_loci/probe.matches.sqlite --taxon-list-config phased-dataset.txt --taxon-group 'phased-dataset' --output ./phased-assemblies/target_loci/phased-dataset.complete.conf\n",
    "    \n",
    "phyluce_assembly_get_match_counts --locus-db ./phased-assemblies/target_loci/probe.matches.sqlite --taxon-list-config phased-dataset.txt --taxon-group 'phased-dataset' --incomplete-matrix --output ./phased-assemblies/target_loci/phased-dataset.incomplete.conf\n",
    "\n",
    "phyluce_assembly_get_fastas_from_match_counts --contigs ./phased-assemblies/contigs/ --locus-db ./phased-assemblies/target_loci/probe.matches.sqlite --match-count-output ./phased-assemblies/target_loci/phased-dataset.complete.conf --output ./phased-assemblies/target_loci/phased-dataset.complete.fasta\n",
    "\n",
    "phyluce_assembly_get_fastas_from_match_counts --contigs ./phased-assemblies/contigs/ --locus-db ./phased-assemblies/target_loci/probe.matches.sqlite --match-count-output ./phased-assemblies/target_loci/phased-dataset.incomplete.conf --incomplete-matrix ./phased-assemblies/target_loci/phased-dataset.incomplete.taxa --output ./phased-assemblies/target_loci/phased-dataset.incomplete.fasta"
   ]
  },
  {
   "cell_type": "markdown",
   "metadata": {},
   "source": [
    "### 2.4 Phyluce fails to align sequences for some reason, all loci are dropped. Doing workaround in python/bash"
   ]
  },
  {
   "cell_type": "code",
   "execution_count": null,
   "metadata": {
    "collapsed": true
   },
   "outputs": [],
   "source": [
    "for i in {1..435} ; do grep \"$i\" phased-dataset.complete.fasta >> completeLoci.txt; done\n",
    "for i in {1..435} ; do grep \"$i\" phased-dataset.incomplete.fasta >> incompleteLoci.txt; done\n"
   ]
  },
  {
   "cell_type": "markdown",
   "metadata": {},
   "source": [
    "####  2.4.1 Python script takes TXT file of all loci, extracts all sequences for each locus, writes TXT file with sequences for each locus.\n",
    "phyluceLocusAligner.py completeLoci.txt\n"
   ]
  },
  {
   "cell_type": "code",
   "execution_count": null,
   "metadata": {
    "collapsed": true
   },
   "outputs": [],
   "source": [
    "#! /usr/bin/python\n",
    "\n",
    "#phyluceLocusAligner.py \n",
    "#Peter W. Schafran 2019\n",
    "\n",
    "import sys\n",
    "\n",
    "lociFile = sys.argv[1]\n",
    "openLociFile = open(lociFile, \"r\")\n",
    "\n",
    "uceList = []\n",
    "uceDict = {}\n",
    "for line in openLociFile:\n",
    "\tsplitline = line.strip(\"\\n\").split(\"|\")\n",
    "\tuceList.append(splitline[1])\n",
    "\ttry:\n",
    "\t\tuceDict[splitline[1]].append(splitline[0])\n",
    "\texcept:\n",
    "\t\tuceDict[splitline[1]] = []\n",
    "\t\tuceDict[splitline[1]].append(splitline[0])\n",
    "for key in uceDict.keys():\n",
    "\toutfile = open(\"%s.txt\" %(key), \"w\")\n",
    "\tfor item in sorted(set(uceDict[key])):\n",
    "\t\toutfile.write(\"%s|%s\\n\" %(item, key))\n",
    "\toutfile.close()\n",
    "\n",
    "openLociFile.close()"
   ]
  },
  {
   "cell_type": "markdown",
   "metadata": {},
   "source": [
    "#### 2.4.2 Loops through each TXT file with all sequence names for each locus, gets corresponding nucleotide sequence from master sequence file"
   ]
  },
  {
   "cell_type": "code",
   "execution_count": null,
   "metadata": {
    "collapsed": true
   },
   "outputs": [],
   "source": [
    "for i in uce-*txt ; do getScaffoldsFromFasta.py phased-dataset.complete.fasta $i ; done # See https://peterwschafran.com/scripts.html or below for Python script\n",
    "\n",
    "#### getScaffoldsFromFasta.py reproduced below this line ####\n",
    "\n",
    "#! /usr/bin/python\n",
    "'''Command Line:getScaffoldsFromFasta.py scaffoldFile.fasta ScaffoldID(.txt)'''\n",
    "import sys\n",
    "\n",
    "scaffoldFile = sys.argv[1]\n",
    "scaffoldID = sys.argv[2]\n",
    "\n",
    "openInFile = open(scaffoldFile, \"r\")\n",
    "openOutFile = open(\"%s.fasta\" %(scaffoldID), \"w\")\n",
    "\n",
    "if \".txt\" in scaffoldID:\n",
    "\tinfile = open(scaffoldID, \"r\")\n",
    "\tfor scaffoldName in infile:\n",
    "\t\twriteOut = 0\n",
    "\t\tfor line in openInFile:\n",
    "\t\t\tif \">\" in line and scaffoldName.strip(\">\\n\") == line.strip(\">\\n\"):\n",
    "\t\t\t\tprint \"Found scaffold %s\" %(line)\n",
    "\t\t\t\twriteOut = 1\n",
    "\t\t\t\topenOutFile.write(line)\n",
    "\t\t\tif \">\" in line and scaffoldName not in line:\n",
    "\t\t\t\twriteOut = 0\n",
    "\t\t\tif \">\" not in line:\n",
    "\t\t\t\tif writeOut == 1:\n",
    "\t\t\t\t\topenOutFile.write(line)\n",
    "\t\topenInFile.seek(0)\n",
    "else:\n",
    "\twriteOut = 0\n",
    "\tfor line in openInFile:\n",
    "\t\tif \">\" in line and scaffoldID in line:\n",
    "\t\t\tprint \"Found scaffold %s\" %(line)\n",
    "\t\t\twriteOut = 1\n",
    "\t\t\topenOutFile.write(line)\n",
    "\t\tif \">\" in line and scaffoldID not in line:\n",
    "\t\t\twriteOut = 0\n",
    "\t\tif \">\" not in line:\n",
    "\t\t\tif writeOut == 1:\n",
    "\t\t\t\topenOutFile.write(line)\n",
    "\t\t\n",
    "openInFile.close()\n",
    "openOutFile.close()\n",
    "infile.close()\n",
    "\n"
   ]
  },
  {
   "cell_type": "markdown",
   "metadata": {},
   "source": [
    "### 2.5 Combine phased polyploid contigs with diploid contigs, align, and do phylogenetic inference\n",
    "\n",
    "#### 2.5.1 Combine diploid seqs assembled by Phyluce with phased loci seqs"
   ]
  },
  {
   "cell_type": "code",
   "execution_count": null,
   "metadata": {
    "collapsed": true
   },
   "outputs": [],
   "source": [
    "for i in {1..435}; do cat ../../noSinensisRef/target_loci/aligned/uce-$i.fasta uce-$i.txt.fasta > uce-$i-combined.fasta; done\n"
   ]
  },
  {
   "cell_type": "markdown",
   "metadata": {},
   "source": [
    "#### 2.5.2 Loops through all sequence files and aligns each locus"
   ]
  },
  {
   "cell_type": "code",
   "execution_count": null,
   "metadata": {
    "collapsed": true
   },
   "outputs": [],
   "source": [
    "for i in uce-*-combined.fasta ; do mafft --auto $i > MAFFT_$i ; done\n"
   ]
  },
  {
   "cell_type": "markdown",
   "metadata": {},
   "source": [
    "#### 2.5.3 Build gene trees for loci with less than 25% missing data (almost no loci had 100% data)"
   ]
  },
  {
   "cell_type": "code",
   "execution_count": null,
   "metadata": {
    "collapsed": true
   },
   "outputs": [],
   "source": [
    "for i in MAFFT_uce-*-combined.fasta ; do num=$(grep -c \">\" $i ) ; if [ $num > 27 ] ; then iqtree -s $i -m MFP -bb 5000 -alrt 5000 -nm 5000 ; fi ; done\n"
   ]
  },
  {
   "cell_type": "markdown",
   "metadata": {},
   "source": [
    "### 2.6 Proper placement of phased polyploids with diploids tested using allotetraploid I. appalachiana complex \n",
    "\n",
    "#### 2.6.1 Extract just trees with all tips of I. appalachiana complex (I. engelmannii, I. valida, I. appalachiana Phase0, I. appalachiana Phase 1) "
   ]
  },
  {
   "cell_type": "code",
   "execution_count": null,
   "metadata": {
    "collapsed": true
   },
   "outputs": [],
   "source": [
    "grep -h \"Isoetes_engelmannii\" MAFFT_uce-*-combined.fasta.treefile | grep \"Isoetes_valida\" | grep \"Isoetes_appPhase0\" | grep \"Isoetes_appPhase1\" > MAFFT.IQTREE.AppalachianaComplex.trees\n",
    "    "
   ]
  },
  {
   "cell_type": "markdown",
   "metadata": {},
   "source": [
    "#### 2.6.2 Because Phyluce appends uce-number to beginning of each tip name, these need to be removed   "
   ]
  },
  {
   "cell_type": "code",
   "execution_count": null,
   "metadata": {
    "collapsed": true
   },
   "outputs": [],
   "source": [
    "sed -E s/uce-[0-9]+_//g < MAFFT.IQTREE.AppalachianaComplex.trees > MAFFT.IQTREE.AppalachianaComplex.renamed.trees\n"
   ]
  },
  {
   "cell_type": "markdown",
   "metadata": {
    "collapsed": true
   },
   "source": [
    "#### 2.6.3 For testing appropriate phylogenetic placement of phased alleles, I used allotetraploid Isoetes appalachiana (Phase0 and Phase1) compared to its diploid parents (I. engelmannii and I. valida). Using the patristic distances from the IQ-TREE individual locus trees, count phased sequences that are closest to either parent, or phased seqs that are closest to each other (potentially misassembled). Performed with R script below:"
   ]
  },
  {
   "cell_type": "code",
   "execution_count": null,
   "metadata": {
    "collapsed": true
   },
   "outputs": [],
   "source": [
    "library(ape)\n",
    "library(phytools)\n",
    "appTrees <- read.tree(\"MAFFT.IQTREE.AppalachianaComplex.renamed.trees\")\n",
    "\n",
    "appMatrix <- matrix(data = NA, ncol = 8, nrow = length(appTrees)*2)\n",
    "colnames(appMatrix) <- c(\"eng-app0\", \"val-app0\", \"app0-app1\", \"val-app1\", \"eng-app1\", \"app0-app1\", \"App0 Min Distance\", \"App1 Min Distance\")\n",
    "j <- 1\n",
    "for (i in seq(1,length(appTrees),1)) {\n",
    "  appMatrix[j,1] <- fastDist(appTrees[[i]], \"Isoetes_engelmannii\", \"Isoetes_appPhase0\")\n",
    "  appMatrix[j,2] <- fastDist(appTrees[[i]], \"Isoetes_valida\", \"Isoetes_appPhase0\")\n",
    "  appMatrix[j,3] <- fastDist(appTrees[[i]], \"Isoetes_appPhase0\", \"Isoetes_appPhase1\")\n",
    "  appMatrix[j+1,4] <- fastDist(appTrees[[i]], \"Isoetes_valida\", \"Isoetes_appPhase1\")\n",
    "  appMatrix[j+1,5] <- fastDist(appTrees[[i]], \"Isoetes_engelmannii\", \"Isoetes_appPhase1\")\n",
    "  appMatrix[j+1,6] <- fastDist(appTrees[[i]], \"Isoetes_appPhase0\", \"Isoetes_appPhase1\")\n",
    "  appMatrix[j,7] <- colnames(appMatrix)[which.min(appMatrix[i,])]\n",
    "  appMatrix[j+1,8] <- colnames(appMatrix)[which.min(appMatrix[i+1,])]\n",
    "  j <- j + 2\n",
    "}\n",
    "\n",
    "phaseSums <- matrix(data = NA, nrow = 1, ncol = 5)\n",
    "colnames(phaseSums) <- c(\"eng-app0\", \"val-app0\", \"eng-app1\", \"val-app1\", \"app0-app1\")\n",
    "phaseSums[1,1] <- sum(appMatrix[,7] == \"eng-app0\", na.rm = TRUE)\n",
    "phaseSums[1,2] <- sum(appMatrix[,7] == \"val-app0\", na.rm = TRUE)\n",
    "phaseSums[1,3] <- sum(appMatrix[,8] == \"eng-app1\", na.rm = TRUE)\n",
    "phaseSums[1,4] <- sum(appMatrix[,8] == \"val-app1\", na.rm = TRUE)\n",
    "phaseSums[1,5] <- sum(appMatrix[,8] == \"app0-app1\", na.rm = TRUE)\n",
    "\n",
    "x <- barplot(phaseSums, xaxt = \"n\", ylab = \"Number of genes supporting relationship\")\n",
    "labs <- colnames(phaseSums)\n",
    "text(cex=1, x=x-.25, y=-1, labs, xpd=TRUE, srt=45)\n"
   ]
  },
  {
   "cell_type": "markdown",
   "metadata": {},
   "source": [
    "![Barplot of phyluce comparisons](https://peterwschafran.com/codebooks/ComparePhyluceTrees.svg)\n"
   ]
  },
  {
   "cell_type": "code",
   "execution_count": 4,
   "metadata": {
    "collapsed": false,
    "scrolled": false
   },
   "outputs": [
    {
     "data": {
      "text/html": [
       "<img src=\"https://peterwschafran.com/codebooks/ComparePhyluceTrees.svg\"/>"
      ],
      "text/plain": [
       "<IPython.core.display.Image object>"
      ]
     },
     "execution_count": 4,
     "metadata": {},
     "output_type": "execute_result"
    }
   ],
   "source": [
    "from IPython.display import Image\n",
    "from IPython.core.display import HTML \n",
    "Image(url = \"https://peterwschafran.com/codebooks/ComparePhyluceTrees.svg\")"
   ]
  },
  {
   "cell_type": "markdown",
   "metadata": {},
   "source": [
    "### 2.7 Results shown above in barplots suggest mixed success:\n",
    "#### The greatest number of loci (27) show closest distance between I. engemannii and the phased I. appalachiana allele (phase 0 or phase 1) -- matches result based on plastome phylogeny that I. engelmannii is maternal parent. \n",
    "#### 23 loci show closest distance between I. valida -- I. appalachiana. \n",
    "#### 10 loci show phased I. appalachiana alleles are closer to each other than either parent -- need to check these for chimaeras or other misassembly"
   ]
  },
  {
   "cell_type": "markdown",
   "metadata": {},
   "source": [
    "## 3. HybPiper Allele Phasing\n",
    "\n",
    "### 3.1 Reads that were phased based on Phyluce contigs were assembled by HybPiper \n",
    "### //TODO phase reads based on HybPiper contigs. \n",
    "\n",
    "#### 3.1.1 Assemble phased-read contigs\n",
    "Example command line:\n",
    "reads_first.py -r READ1.fastq READ2.fastq -b Isoetes_Unique_GoFlag_target_scaffolds.fasta --prefix Isoetes_spPhase0 --bwa"
   ]
  },
  {
   "cell_type": "code",
   "execution_count": null,
   "metadata": {
    "collapsed": true
   },
   "outputs": [],
   "source": [
    "reads_first.py -r /Volumes/Samsung_T5/IsoetesDNA/GoFlag/Phyluce/Isoetes_appPhase0/split-adapter-quality-trimmed/Isoetes_appPhase0-READ1.fastq /Volumes/Samsung_T5/IsoetesDNA/GoFlag/Phyluce/Isoetes_appPhase0/split-adapter-quality-trimmed/Isoetes_appPhase0-READ2.fastq -b Isoetes_Unique_GoFlag_target_scaffolds.fasta --prefix I_appPhase0 --bwa\n",
    "reads_first.py -r /Volumes/Samsung_T5/IsoetesDNA/GoFlag/Phyluce/Isoetes_appPhase1/split-adapter-quality-trimmed/Isoetes_appPhase1-READ1.fastq /Volumes/Samsung_T5/IsoetesDNA/GoFlag/Phyluce/Isoetes_appPhase1/split-adapter-quality-trimmed/Isoetes_appPhase1-READ2.fastq -b Isoetes_Unique_GoFlag_target_scaffolds.fasta --prefix I_appPhase1 --bwa\n",
    "\n",
    "for i in I_app*; do cleanup.py $i; done"
   ]
  },
  {
   "cell_type": "markdown",
   "metadata": {},
   "source": [
    "#### 3.1.2  As above, once assembly is completed run other HybPiper utilities to get sequence lengths, statistics, identify exons/introns, paralogs, and extract sequence types \n",
    "\n",
    "#### Remember to modify namelist.txt to include all samples (diploids and polyploids)"
   ]
  },
  {
   "cell_type": "code",
   "execution_count": null,
   "metadata": {
    "collapsed": true
   },
   "outputs": [],
   "source": [
    "python /Applications/Phylogenetics/HybPiper/HybPiper/get_seq_lengths.py Isoetes_Unique_GoFlag_target_scaffolds.fasta namelist.txt dna > sequence_lengths.txt # must be called with \"python get_seq_lengths.py ...\" due to preserve correct sys.argv order\n",
    "\n",
    "python /Applications/Phylogenetics/HybPiper/HybPiper/hybpiper_stats.py sequence_lengths.txt namelist.txt > statistics.txt\n",
    "\n",
    "for i in I_*; do python /Applications/Phylogenetics/HybPiper/HybPiper/intronerate.py --prefix $i; done\n",
    "\n",
    "python /Applications/Phylogenetics/HybPiper/HybPiper/retrieve_sequences.py Isoetes_Unique_GoFlag_target_scaffolds.fasta . dna\n",
    "\n",
    "python /Applications/Phylogenetics/HybPiper/HybPiper/retrieve_sequences.py Isoetes_Unique_GoFlag_target_scaffolds.fasta . intron\n",
    "\n",
    "python /Applications/Phylogenetics/HybPiper/HybPiper/retrieve_sequences.py Isoetes_Unique_GoFlag_target_scaffolds.fasta . supercontig\n",
    "\n",
    "while read i; do python /Applications/Phylogenetics/HybPiper/HybPiper/paralog_investigator.py $i; done < namelist.txt \n",
    "\n",
    "while read i; do python /Applications/Phylogenetics/HybPiper/HybPiper/paralog_retriever.py namelist.txt $i > $i.paralogs.fasta; done < all_loci.txt\n"
   ]
  },
  {
   "cell_type": "markdown",
   "metadata": {},
   "source": [
    "#### If above steps performed in same directory with diploid sequences generated earlier, output should have diploids and polyploids in same \n",
    "#### Make sure to check paralogs, could be indication of poor sorting of phased reads\n",
    "\n",
    "### 3.2 Align DNA seqs for each locus with MAFFT"
   ]
  },
  {
   "cell_type": "code",
   "execution_count": null,
   "metadata": {
    "collapsed": true
   },
   "outputs": [],
   "source": [
    "cd ./dna\n",
    "for i in *.FNA; do mafft --auto $i > MAFFT.dna.$i; done\n"
   ]
  },
  {
   "cell_type": "markdown",
   "metadata": {},
   "source": [
    "### 3.3 Do phylogenetic inference with IQ-TREE"
   ]
  },
  {
   "cell_type": "code",
   "execution_count": null,
   "metadata": {
    "collapsed": true
   },
   "outputs": [],
   "source": [
    "for i in MAFFT.dna.*.FNA ; do iqtree -s $i -m MFP -bb 5000 -alrt 5000 -nm 5000 ; done\n"
   ]
  },
  {
   "cell_type": "markdown",
   "metadata": {},
   "source": [
    "### 3.4 As in 2.6, extract only trees containing all member of I. appalachiana complex and test distances of tetraploid phased sequences and diploid parents"
   ]
  },
  {
   "cell_type": "code",
   "execution_count": null,
   "metadata": {
    "collapsed": true
   },
   "outputs": [],
   "source": [
    "grep -h \"Isoetes-engelmannii\" MAFFT.dna.L*treefile | grep \"Isoetes-valida\" | grep \"I_appPhase0\" | grep \"I_appPhase1\" > MAFFT.IQTREE.AppalachianaComplex.trees\n"
   ]
  },
  {
   "cell_type": "markdown",
   "metadata": {},
   "source": [
    "### 3.5 Run trees through R script in 2.6.3 "
   ]
  },
  {
   "cell_type": "code",
   "execution_count": 1,
   "metadata": {
    "collapsed": false
   },
   "outputs": [
    {
     "data": {
      "text/html": [
       "<img src=\"https://peterwschafran.com/codebooks/CompareHybPiperTrees.svg\"/>"
      ],
      "text/plain": [
       "<IPython.core.display.Image object>"
      ]
     },
     "execution_count": 1,
     "metadata": {},
     "output_type": "execute_result"
    }
   ],
   "source": [
    "from IPython.display import Image\n",
    "from IPython.core.display import HTML \n",
    "Image(url = \"https://peterwschafran.com/codebooks/CompareHybPiperTrees.svg\")"
   ]
  },
  {
   "cell_type": "markdown",
   "metadata": {},
   "source": [
    "### 3.6 Results appear to be drastically different from Phyluce\n",
    "#### A plurality of loci (100) show least distant between the two phased alleles, rather than either diploid parent\n",
    "#### 78 phased loci show least distance to I. valida, while only 58 show least distance to I. engelmannii -- reverse of the Phyluce results\n"
   ]
  },
  {
   "cell_type": "markdown",
   "metadata": {},
   "source": [
    "### 3.7 Phase reads based on HybPiper template contigs\n",
    "\n",
    "#### Using contigs assembled at /Volumes/Samsung_T5/IsoetesDNA/GoFlag/HybPiper/I_appalachiana_WC10"
   ]
  },
  {
   "cell_type": "code",
   "execution_count": null,
   "metadata": {
    "collapsed": true
   },
   "outputs": [],
   "source": [
    "### BWA\n",
    "### Loops through all sample directories, build BWA index from HybPiper contigs, build SAM alignment of samples fastq reads against contigs\n",
    "cd /Volumes/Samsung_T5/IsoetesDNA/GoFlag/HybPiper/I_appalachiana_WC10\n",
    "for i in L* ; do bwa index $i/I_appalachiana_WC10/sequences/FNA/$i.FNA ; bwa mem $i/I_appalachiana_WC10/sequences/FNA/$i.FNA /Volumes/Samsung_T5/IsoetesDNA/GoFlag/Schafran_GoFlag/A01_trimmedReads/RAPiD-Genomics_F065_UFG_393202_P020_WC10_i5-514_i7-47_S2461_L007_R1_001_val_1.fq /Volumes/Samsung_T5/IsoetesDNA/GoFlag/Schafran_GoFlag/A01_trimmedReads/RAPiD-Genomics_F065_UFG_393202_P020_WC10_i5-514_i7-47_S2461_L007_R2_001_val_2.fq > $i.sam; done\n",
    "\n",
    "### Convert SAM to BAM files\n",
    "for i in L* ; do samtools view -bS $i.sam > $i.bam ; done\n",
    "\n",
    "### Sort BAM files prior to phaseing\n",
    "for i in L* ; do samtools sort -o $i/$i.sorted.bam bam/$i.bam ; done\n",
    "\n",
    "### Phase BAM files\n",
    "for i in L* ; do samtools phase -Q 33 -q 5 -b $i/$i $i/$i.sorted.bam ; done\n",
    "\n",
    "### Extract reads from phased BAM files\n",
    "for i in L* ; do samtools sort -n -o $i/$i.0.sort.bam $i/$i.0.bam && samtools fixmate -m $i/$i.0.sort.bam $i/$i.0.fixMate.bam && samtools sort -o $i/$i.0.sort.bam $i/$i.0.fixMate.bam && samtools markdup -r $i/$i.0.sort.bam $i/$i.0.rmDup.bam && bam2fastq $i/$i.0.rmDup.bam -o $i/$i-Phase0-R#.fastq ; done \n",
    "for i in L* ; do samtools sort -n -o $i/$i.1.sort.bam $i/$i.1.bam && samtools fixmate -m $i/$i.1.sort.bam $i/$i.1.fixMate.bam && samtools sort -o $i/$i.1.sort.bam $i/$i.1.fixMate.bam && samtools markdup -r $i/$i.1.sort.bam $i/$i.1.rmDup.bam && bam2fastq $i/$i.1.rmDup.bam -o $i/$i-Phase1-R#.fastq ; done \n"
   ]
  },
  {
   "cell_type": "markdown",
   "metadata": {},
   "source": [
    "### 3.8 Assemble phased reads with SPAdes (used to evaluate phasing, not needed for further steps)"
   ]
  },
  {
   "cell_type": "code",
   "execution_count": null,
   "metadata": {
    "collapsed": true
   },
   "outputs": [],
   "source": [
    "for i in L* ; do spades.py -1 $i/$i-Phase0-R_1.fastq -2 $i/$i-Phase0-R_2.fastq --careful -o $i/spades_Phase0 ; cp $i/spades_Phase0/scaffolds.fasta $i-Phase0-scaffolds.fasta ; done\n",
    "for i in L* ; do spades.py -1 $i/$i-Phase1-R_1.fastq -2 $i/$i-Phase1-R_2.fastq --careful -o $i/spades_Phase1 ; cp $i/spades_Phase1/scaffolds.fasta $i-Phase1-scaffolds.fasta ; done\n"
   ]
  },
  {
   "cell_type": "markdown",
   "metadata": {},
   "source": [
    "### 3.9 Run HybPiper on each individual locus for each set of phased reads. "
   ]
  },
  {
   "cell_type": "code",
   "execution_count": null,
   "metadata": {
    "collapsed": true
   },
   "outputs": [],
   "source": [
    "cd /Volumes/Samsung_T5/IsoetesDNA/GoFlag/HybPiper/I_appalachiana_WC10/phased_reads/\n",
    "\n",
    "for i in {1..453} ; do for j in {0..1} ; do reads_first.py -r L$i-Phase$j-R_1.fastq L$i-Phase$j-R_2.fastq -b ../Isoetes_Unique_GoFlag_target_scaffolds.fasta --prefix L$i-Phase$j --bwa ; done ; done\n",
    "for i in {1..453} ; do for j in {0..1} ; do cleanup.py L$i-Phase$j; done ; done\n",
    "\n",
    "python /Applications/Phylogenetics/HybPiper/HybPiper/get_seq_lengths.py Isoetes_Unique_GoFlag_target_scaffolds.fasta namelist.txt dna > sequence_lengths.txt # must be called with \"python get_seq_lengths.py ...\" due to preserve correct sys.argv order"
   ]
  },
  {
   "cell_type": "markdown",
   "metadata": {},
   "source": [
    "#### 3.9.1 Create namelist.txt containing each locus and phase"
   ]
  },
  {
   "cell_type": "code",
   "execution_count": null,
   "metadata": {
    "collapsed": true
   },
   "outputs": [],
   "source": [
    "for i in L* ; do echo $i >> namelist.txt ; done\n"
   ]
  },
  {
   "cell_type": "markdown",
   "metadata": {},
   "source": [
    "#### 3.9.2 Get sequence lengths from HybPiper-assembled phased reads"
   ]
  },
  {
   "cell_type": "code",
   "execution_count": null,
   "metadata": {
    "collapsed": true
   },
   "outputs": [],
   "source": [
    "python /Applications/Phylogenetics/HybPiper/HybPiper/get_seq_lengths.py ../../Isoetes_Unique_GoFlag_target_scaffolds.fasta namelist.txt dna > sequence_lengths.txt # must be called with \"python get_seq_lengths.py ...\" due to preserve correct sys.argv order\n"
   ]
  },
  {
   "cell_type": "markdown",
   "metadata": {},
   "source": [
    "#### 3.9.3 Generate HybPiper statistics -- didn't work so skipping to 3.9.4"
   ]
  },
  {
   "cell_type": "code",
   "execution_count": null,
   "metadata": {
    "collapsed": true
   },
   "outputs": [],
   "source": [
    "python /Applications/Phylogenetics/HybPiper/HybPiper/hybpiper_stats.py sequence_lengths.txt namelist.txt > statistics.txt\n",
    "\n",
    "#### This fails for some reason, possibly b/c there are loci with 0 reads\n",
    "Traceback (most recent call last):\n",
    "  File \"/Applications/Phylogenetics/HybPiper/HybPiper/hybpiper_stats.py\", line 153, in <module>\n",
    "    if __name__ == \"__main__\":main()\n",
    "  File \"/Applications/Phylogenetics/HybPiper/HybPiper/hybpiper_stats.py\", line 130, in main\n",
    "    stats_dict[name] += enrich_efficiency_bwa(bamfile)\n",
    "  File \"/Applications/Phylogenetics/HybPiper/HybPiper/hybpiper_stats.py\", line 51, in enrich_efficiency_bwa\n",
    "    return str(int(numReads)),str(int(mappedReads)),\"{0:.3f}\".format(mappedReads/numReads)\n",
    "ZeroDivisionError: float division by zero"
   ]
  },
  {
   "cell_type": "markdown",
   "metadata": {},
   "source": [
    "#### 3.9.4 Retrieve DNA sequences "
   ]
  },
  {
   "cell_type": "code",
   "execution_count": null,
   "metadata": {
    "collapsed": true
   },
   "outputs": [],
   "source": [
    "python /Applications/Phylogenetics/HybPiper/HybPiper/retrieve_sequences.py Isoetes_Unique_GoFlag_target_scaffolds.fasta . dna\n"
   ]
  },
  {
   "cell_type": "markdown",
   "metadata": {},
   "source": [
    "#### Retrieving DNA sequences as above -- which treats each Locus-Phase combo as a sample, then parses the original list of scaffolds and pull all matching sequences from the \"samples\" -- reveals that some loci are very similar (or identical) to other loci.\n",
    "\n",
    "#### For following steps, I am using only loci which recovered 2 sequences -- one from each set of phases for each locus."
   ]
  },
  {
   "cell_type": "code",
   "execution_count": null,
   "metadata": {
    "collapsed": true
   },
   "outputs": [],
   "source": [
    "for i in *.FNA ; do num=$(grep -c \">\" $i ) ; if [ $num = 2 ] ; then echo $i >> twoPhaseLoci.txt ; fi ; done\n",
    "while read i ; do num1=$(grep -c \"Phase0\" $i) ; num2=$(grep -c \"Phase1\" $i) ; if [[ num1 -eq 1 || num2 -eq 1 ]] ; then echo $i > goodPhasedLoci.txt ; fi ; done < twoPhaseLoci.txt\n"
   ]
  },
  {
   "cell_type": "markdown",
   "metadata": {},
   "source": [
    "#### 111 loci passed this filter\n",
    "\n",
    "### 3.10 Combine cleanly phased I. appalachiana sequences with those diploid loci\n",
    "Data location: /Volumes/Samsung_T5/IsoetesDNA/GoFlag/HybPiper/wSinensisRef/diploidsOnly/targetRegions/seqs"
   ]
  },
  {
   "cell_type": "code",
   "execution_count": null,
   "metadata": {
    "collapsed": true
   },
   "outputs": [],
   "source": [
    "while read i ; do cat /Volumes/Samsung_T5/IsoetesDNA/GoFlag/HybPiper/I_appalachiana_WC10/phased_reads/$i /Volumes/Samsung_T5/IsoetesDNA/GoFlag/HybPiper/wSinensisRef/diploidsOnly/targetRegions/seqs/$i > Diploids-appPhases-combined-$i ; done < ../../../../I_appalachiana_WC10/phased_reads/goodPhasedLoci.txt\n"
   ]
  },
  {
   "cell_type": "markdown",
   "metadata": {},
   "source": [
    "### 3.11 Rename locus name in fastas with \"I_app\""
   ]
  },
  {
   "cell_type": "code",
   "execution_count": null,
   "metadata": {
    "collapsed": true
   },
   "outputs": [],
   "source": [
    "for i in Diploids-appPhases-combined-L* ; do sed -E s/L[0-9]+-/I_app/g < $i > $i.renamed.fasta ; done\n"
   ]
  },
  {
   "cell_type": "markdown",
   "metadata": {},
   "source": [
    "### 3.12 Align remaining loci"
   ]
  },
  {
   "cell_type": "code",
   "execution_count": null,
   "metadata": {
    "collapsed": true
   },
   "outputs": [],
   "source": [
    "for i in Diploids-appPhases-combined-L*.renamed.fasta ; do mafft --auto $i > MAFFT_$i ; done\n"
   ]
  },
  {
   "cell_type": "markdown",
   "metadata": {},
   "source": [
    "### 3.13 Do phylogenetic tree inference for each locus with IQ-TREE"
   ]
  },
  {
   "cell_type": "code",
   "execution_count": null,
   "metadata": {
    "collapsed": true
   },
   "outputs": [],
   "source": [
    "for i in MAFFT_Diploids-appPhases-combined-L*.renamed.fasta ; do iqtree -s $i -m MFP -bb 5000 -alrt 5000 -nm 5000 ; done\n"
   ]
  },
  {
   "cell_type": "markdown",
   "metadata": {},
   "source": [
    "### 3.14 Select only trees with all 4 sequences for I. appalachiana complex"
   ]
  },
  {
   "cell_type": "code",
   "execution_count": null,
   "metadata": {
    "collapsed": true
   },
   "outputs": [],
   "source": [
    "grep -h \"I_engelmannii\" MAFFT_uce-*-combined.fasta.treefile | grep \"I_valida\" | grep \"I_appPhase0\" | grep \"I_appPhase1\" > MAFFT.IQTREE.AppalachianaComplex.trees\n"
   ]
  },
  {
   "cell_type": "markdown",
   "metadata": {},
   "source": [
    "#### 107 trees remained"
   ]
  },
  {
   "cell_type": "markdown",
   "metadata": {},
   "source": [
    "### 3.15 Run trees through R script in 2.6.3"
   ]
  },
  {
   "cell_type": "code",
   "execution_count": 1,
   "metadata": {
    "collapsed": false
   },
   "outputs": [
    {
     "data": {
      "text/html": [
       "<img src=\"https://peterwschafran.com/codebooks/CompareHybPiperTrees2.svg\"/>"
      ],
      "text/plain": [
       "<IPython.core.display.Image object>"
      ]
     },
     "execution_count": 1,
     "metadata": {},
     "output_type": "execute_result"
    }
   ],
   "source": [
    "from IPython.display import Image\n",
    "from IPython.core.display import HTML \n",
    "Image(url = \"https://peterwschafran.com/codebooks/CompareHybPiperTrees2.svg\")"
   ]
  },
  {
   "cell_type": "markdown",
   "metadata": {},
   "source": [
    "#### Disitribution of loci closest to I. engelmannii vs. I. valida is more even than above, but still with large number of loci that do not follow expected pattern and could be chimeras. Also, examining the distances for each tree, several identify both phases from a single locus were closest to the same diploid. "
   ]
  },
  {
   "cell_type": "markdown",
   "metadata": {},
   "source": [
    "### 3.16 Let's compare the phased I. appalachiana loci against all the diploids\n",
    "\n",
    "#### Using R code modified from that in step 2.6.3"
   ]
  },
  {
   "cell_type": "code",
   "execution_count": null,
   "metadata": {
    "collapsed": true
   },
   "outputs": [],
   "source": [
    "library(ape)\n",
    "library(phytools)\n",
    "appTrees <- read.tree(file.choose())\n",
    "\n",
    "View(appTrees)\n",
    "appMatrix <- matrix(data = NA, ncol = (length(appTrees[[1]]$tip.label)*2)-2, nrow = length(appTrees)*2)\n",
    "colnames(appMatrix) <- c(\"I_valida_WC11\",\"I_engelmannii_WA10\",\"I_butleri_WA12\", \"I_flaccida_WD11\",\"I_storkii_WF12\",\"I_flaccida_WE11\", \"I_mattaponica_WB11\", \"I_melanopoda_WG11\" ,\"I_piedmontana_WF11\", \"I_lithophila_WB12\", \"I_melanopoda_WH11\", \"I_valida_WC11\",\"I_engelmannii_WA10\",\"I_butleri_WA12\", \"I_flaccida_WD11\",\"I_storkii_WF12\",\"I_flaccida_WE11\", \"I_mattaponica_WB11\", \"I_melanopoda_WG11\" ,\"I_piedmontana_WF11\", \"I_lithophila_WB12\", \"I_melanopoda_WH11\" ,\"App0 Min Distance\", \"App1 Min Distance\")\n",
    "j <- 1\n",
    "engelmanniiPhase0_validaPhase1_Trees <- list()\n",
    "eng0val1_counter <- 1\n",
    "engelmanniiPhase1_validaPhase0_Trees <- list()\n",
    "eng1val0_counter <- 1\n",
    "for (i in seq(1,length(appTrees),1)) {\n",
    "  try(appMatrix[j,1] <- fastDist(appTrees[[i]], \"I_valida_WC11\", \"I_appPhase0\"))\n",
    "  try(appMatrix[j,2] <- fastDist(appTrees[[i]], \"I_engelmannii_WA10\", \"I_appPhase0\"))\n",
    "  try(appMatrix[j,3] <- fastDist(appTrees[[i]], \"I_butleri_WA12\", \"I_appPhase0\"))\n",
    "  try(appMatrix[j,4] <- fastDist(appTrees[[i]], \"I_flaccida_WD11\", \"I_appPhase0\"))\n",
    "  try(appMatrix[j,5] <- fastDist(appTrees[[i]], \"I_storkii_WF12\", \"I_appPhase0\"))\n",
    "  try(appMatrix[j,6] <- fastDist(appTrees[[i]], \"I_flaccida_WE11\", \"I_appPhase0\"))\n",
    "  try(appMatrix[j,7] <- fastDist(appTrees[[i]], \"I_mattaponica_WB11\", \"I_appPhase0\"))\n",
    "  try(appMatrix[j,8] <- fastDist(appTrees[[i]], \"I_melanopoda_WG11\", \"I_appPhase0\"))\n",
    "  try(appMatrix[j,9] <- fastDist(appTrees[[i]], \"I_piedmontana_WF11\", \"I_appPhase0\"))\n",
    "  try(appMatrix[j,10] <- fastDist(appTrees[[i]], \"I_lithophila_WB12\", \"I_appPhase0\"))\n",
    "  try(appMatrix[j,11] <- fastDist(appTrees[[i]], \"I_melanopoda_WH11\", \"I_appPhase0\"))\n",
    "  try(appMatrix[j+1,12] <- fastDist(appTrees[[i]], \"I_valida_WC11\", \"I_appPhase1\"))\n",
    "  try(appMatrix[j+1,13] <- fastDist(appTrees[[i]], \"I_engelmannii_WA10\", \"I_appPhase1\"))\n",
    "  try(appMatrix[j+1,14] <- fastDist(appTrees[[i]], \"I_butleri_WA12\", \"I_appPhase1\"))\n",
    "  try(appMatrix[j+1,15] <- fastDist(appTrees[[i]], \"I_flaccida_WD11\", \"I_appPhase1\"))\n",
    "  try(appMatrix[j+1,16] <- fastDist(appTrees[[i]], \"I_storkii_WF12\", \"I_appPhase1\"))\n",
    "  try(appMatrix[j+1,17] <- fastDist(appTrees[[i]], \"I_flaccida_WE11\", \"I_appPhase1\"))\n",
    "  try(appMatrix[j+1,18] <- fastDist(appTrees[[i]], \"I_mattaponica_WB11\", \"I_appPhase1\"))\n",
    "  try(appMatrix[j+1,19] <- fastDist(appTrees[[i]], \"I_melanopoda_WG11\", \"I_appPhase1\"))\n",
    "  try(appMatrix[j+1,20] <- fastDist(appTrees[[i]], \"I_piedmontana_WF11\", \"I_appPhase1\"))\n",
    "  try(appMatrix[j+1,21] <- fastDist(appTrees[[i]], \"I_lithophila_WB12\", \"I_appPhase1\"))\n",
    "  try(appMatrix[j+1,22] <- fastDist(appTrees[[i]], \"I_melanopoda_WH11\", \"I_appPhase1\"))\n",
    "  appMatrix[j,23] <- colnames(appMatrix)[which.min(appMatrix[i,])]\n",
    "  appMatrix[j+1,24] <- colnames(appMatrix)[which.min(appMatrix[i+1,])]\n",
    "  j <- j + 2\n",
    "  }\n",
    "\n",
    "par(mfrow = c(2,1))\n",
    "phase0table <- table(appMatrix[,23])\n",
    "x <- barplot(phase0table, xaxt = \"n\", ylab = \"Number of loci with closest diploid\", main = \"Isoetes appalachiana Phase 0\")\n",
    "labs <- names(phase0table)\n",
    "phase1table <- table(appMatrix[,24])\n",
    "x <- barplot(phase1table, xaxt = \"n\", ylab = \"Number of loci with closest diploid\", main = \"Isoetes appalachiana Phase 1\")\n",
    "text(cex=0.75, x=x, y=-1.25, labs, xpd=TRUE, srt=45, adj = c(1,0))\n",
    "\n",
    "### This plot posted below\n",
    "par(mfrow = c(1,1))\n",
    "bothphaseTable <- table(appMatrix[,23:24])\n",
    "labs <- names(bothphaseTable)\n",
    "x <- barplot(bothphaseTable, xaxt = \"n\", ylab = \"Number of loci with closest diploid\", main = \"Isoetes appalachiana\")\n",
    "text(cex=0.75, x=x, y=-1.25, labs, xpd=TRUE, srt=45, adj = c(1,0))"
   ]
  },
  {
   "cell_type": "code",
   "execution_count": 2,
   "metadata": {
    "collapsed": false,
    "scrolled": true
   },
   "outputs": [
    {
     "data": {
      "text/html": [
       "<img src=\"https://peterwschafran.com/codebooks/CompareHybPiperAllDiploids.svg\"/>"
      ],
      "text/plain": [
       "<IPython.core.display.Image object>"
      ]
     },
     "execution_count": 2,
     "metadata": {},
     "output_type": "execute_result"
    }
   ],
   "source": [
    "from IPython.display import Image\n",
    "from IPython.core.display import HTML \n",
    "Image(url = \"https://peterwschafran.com/codebooks/CompareHybPiperAllDiploids.svg\")"
   ]
  },
  {
   "cell_type": "markdown",
   "metadata": {},
   "source": [
    "#### I. engelmannii and I. valida stand out as the most prevalent diploids close to the phased I. appalachiana sequences. However, many of the loci still don't behave as expected (1 phase with I. engelmannii, the other phase with I. valida). Many loci have both phases close to the same diploid. "
   ]
  }
 ],
 "metadata": {
  "kernelspec": {
   "display_name": "Python 2",
   "language": "python",
   "name": "python2"
  },
  "language_info": {
   "codemirror_mode": {
    "name": "ipython",
    "version": 2
   },
   "file_extension": ".py",
   "mimetype": "text/x-python",
   "name": "python",
   "nbconvert_exporter": "python",
   "pygments_lexer": "ipython2",
   "version": "2.7.15"
  }
 },
 "nbformat": 4,
 "nbformat_minor": 2
}
