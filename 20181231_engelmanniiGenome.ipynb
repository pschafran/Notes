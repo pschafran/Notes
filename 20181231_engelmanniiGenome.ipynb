{
 "cells": [
  {
   "cell_type": "markdown",
   "metadata": {},
   "source": [
    "# 2018 December 31\n",
    "\n",
    "## Clean and assemble _Isoetes engelmannii_ genome reads"
   ]
  },
  {
   "cell_type": "code",
   "execution_count": null,
   "metadata": {
    "collapsed": true
   },
   "outputs": [],
   "source": [
    "ssh pscha005@turing.hpc.odu.edu\n",
    "cd /scratch-lustre/pscha005/IridianGenomes/engelmannii"
   ]
  },
  {
   "cell_type": "markdown",
   "metadata": {},
   "source": [
    "### Files already trimmed through trimmomatic"
   ]
  },
  {
   "cell_type": "code",
   "execution_count": null,
   "metadata": {
    "collapsed": true
   },
   "outputs": [],
   "source": [
    "ls -lah *paired.fq.gz\n",
    "\n",
    "-rw-r--r--  1 pscha005 users 5.1G Nov 19 15:13 SRR7909128_1_paired.fq.gz\n",
    "-rw-r--r--  1 pscha005 users 5.4G Nov 19 15:13 SRR7909128_2_paired.fq.gz\n",
    "-rw-r--r--  1 pscha005 users 5.1G Nov 19 16:10 SRR7939431_1_paired.fq.gz\n",
    "-rw-r--r--  1 pscha005 users 5.4G Nov 19 16:10 SRR7939431_2_paired.fq.gz\n",
    "-rw-r--r--  1 pscha005 users 1.4G Dec 31 09:36 SRR7943694_1_paired.fq.gz\n",
    "-rw-r--r--  1 pscha005 users 1.4G Dec 31 09:36 SRR7943694_2_paired.fq.gz\n",
    "-rw-r--r--  1 pscha005 users 5.3G Dec 29 09:43 SRR8371589_1_1_paired.fq.gz\n",
    "-rw-r--r--  1 pscha005 users 5.2G Dec 29 09:42 SRR8371589_1_2_paired.fq.gz\n",
    "-rw-r--r--  1 pscha005 users 5.3G Dec 29 09:35 SRR8371589_1_3_paired.fq.gz\n",
    "-rw-r--r--  1 pscha005 users 5.5G Dec 29 09:45 SRR8371589_1_4_paired.fq.gz\n",
    "-rw-r--r--  1 pscha005 users 5.4G Dec 29 09:43 SRR8371589_1_5_paired.fq.gz\n",
    "-rw-r--r--  1 pscha005 users 2.6G Dec 29 10:03 SRR8371589_1_6_paired.fq.gz\n",
    "-rw-r--r--  1 pscha005 users  30G Dec 29 04:01 SRR8371589_1_paired.fq.gz\n",
    "-rw-r--r--  1 pscha005 users 5.5G Dec 29 09:43 SRR8371589_2_1_paired.fq.gz\n",
    "-rw-r--r--  1 pscha005 users 5.5G Dec 29 09:42 SRR8371589_2_2_paired.fq.gz\n",
    "-rw-r--r--  1 pscha005 users 5.5G Dec 29 09:35 SRR8371589_2_3_paired.fq.gz\n",
    "-rw-r--r--  1 pscha005 users 5.7G Dec 29 09:45 SRR8371589_2_4_paired.fq.gz\n",
    "-rw-r--r--  1 pscha005 users 5.6G Dec 29 09:43 SRR8371589_2_5_paired.fq.gz\n",
    "-rw-r--r--  1 pscha005 users 2.7G Dec 29 10:03 SRR8371589_2_6_paired.fq.gz\n",
    "-rw-r--r--  1 pscha005 users  31G Dec 29 04:01 SRR8371589_2_paired.fq.gz"
   ]
  },
  {
   "cell_type": "markdown",
   "metadata": {},
   "source": [
    "### All paired-end reads assembled with Abyss\n",
    "\n",
    "Including reads from new (SRR8371589) and older (SRR7909128, SRR7939431, SRR7943694) sequencing runs. Using files from new run that were split into 70 million reads each to improve run time across more CPUs. "
   ]
  },
  {
   "cell_type": "code",
   "execution_count": null,
   "metadata": {
    "collapsed": true
   },
   "outputs": [],
   "source": [
    "less abyss_MPI_AllPEReads.sh\n",
    "\n",
    "#!/bin/bash -l\n",
    "#SBATCH --job-name=abysEngl    # Job name\n",
    "#SBATCH --mail-type=ALL               # Mail events (NONE, BEGIN, END, FAIL, ALL)\n",
    "#SBATCH --mail-user=<pscha005@odu.edu>   # Where to send mail   \n",
    "#SBATCH --ntasks=18                    # Run on a single CPU\n",
    "#SBATCH --cpus-per-task=16\n",
    "#SBATCH --output=2018Dec31_abyss_%j.out   # Standard output and error log\n",
    "\n",
    "pwd; hostname; date\n",
    "\n",
    "enable_lmod\n",
    "module load abyss/2.1\n",
    "abyss-pe np=18 j=16 k=72 name=Iengl_Sch43_AllPairedReads_k72 in='SRR8371589_1_1_paired.fq.gz SRR8371589_2_1_paired.fq.gz SRR8371589_1_2_paired.fq.gz SRR8371589_2_2_paired.fq.gz SRR8371589_1_3_paired.fq.gz SRR8371589_2_3_paired.fq.gz SRR8371589_1_4_paired.fq.gz SRR8371589_2_4_paired.fq.gz SRR8371589_1_5_paired.fq.gz SRR8371589_2_5_paired.fq.gz SRR8371589_1_6_paired.fq.gz SRR8371589_2_6_paired.fq.gz SRR7909128_1_paired.fq.gz SRR7909128_2_paired.fq.gz SRR7939431_1_paired.fq.gz SRR7939431_2_paired.fq.gz SRR7943694_1_paired.fq.gz SRR7943694_2_paired.fq.gz'\n",
    "\n",
    "date\n",
    "\n"
   ]
  },
  {
   "cell_type": "code",
   "execution_count": null,
   "metadata": {
    "collapsed": true
   },
   "outputs": [],
   "source": [
    "sbatch abyss_MPI_AllPEReads.sh\n",
    "Submitted batch job 8527637"
   ]
  },
  {
   "cell_type": "markdown",
   "metadata": {},
   "source": [
    "#### Output: 2018Dec31_abyss_8527637.out \n",
    "\n",
    "Job completed successfully after ~18 hours.\n",
    "\n",
    "Stats:\n",
    "```\n",
    "less abyss/k72/Iengl_Sch43_AllPairedReads_k72-stats.tab \n",
    "\n",
    "n       n:500   L50     min     N75     N50     N25     E-size  max     sum     name\n",
    "7561854 340194  60624   500     1118    2338    4749    5107    222683  557.3e6 Iengl_Sch43_AllPairedReads_k72-unitigs.fa\n",
    "7147464 268399  37978   500     1771    3961    7862    11933   809720  580.1e6 Iengl_Sch43_AllPairedReads_k72-contigs.fa\n",
    "7126029 253172  30384   500     1877    4806    9942    14761   1054867 579.8e6 Iengl_Sch43_AllPairedReads_k72-scaffolds.fa\n",
    "```"
   ]
  },
  {
   "cell_type": "markdown",
   "metadata": {},
   "source": [
    "### 70M fastq split-files of paired-end reads assembled with SPAdes\n",
    "\n",
    "Each pair of files split into 70 million reads assembled separately first\n",
    "\n",
    "Files:\n",
    "```\n",
    "-rw-r--r--  1 pscha005 users 5.3G Dec 29 09:43 SRR8371589_1_1_paired.fq.gz\n",
    "-rw-r--r--  1 pscha005 users 5.2G Dec 29 09:42 SRR8371589_1_2_paired.fq.gz\n",
    "-rw-r--r--  1 pscha005 users 5.3G Dec 29 09:35 SRR8371589_1_3_paired.fq.gz\n",
    "-rw-r--r--  1 pscha005 users 5.5G Dec 29 09:45 SRR8371589_1_4_paired.fq.gz\n",
    "-rw-r--r--  1 pscha005 users 5.4G Dec 29 09:43 SRR8371589_1_5_paired.fq.gz\n",
    "-rw-r--r--  1 pscha005 users 2.6G Dec 29 10:03 SRR8371589_1_6_paired.fq.gz\n",
    "-rw-r--r--  1 pscha005 users 5.5G Dec 29 09:43 SRR8371589_2_1_paired.fq.gz\n",
    "-rw-r--r--  1 pscha005 users 5.5G Dec 29 09:42 SRR8371589_2_2_paired.fq.gz\n",
    "-rw-r--r--  1 pscha005 users 5.5G Dec 29 09:35 SRR8371589_2_3_paired.fq.gz\n",
    "-rw-r--r--  1 pscha005 users 5.7G Dec 29 09:45 SRR8371589_2_4_paired.fq.gz\n",
    "-rw-r--r--  1 pscha005 users 5.6G Dec 29 09:43 SRR8371589_2_5_paired.fq.gz\n",
    "-rw-r--r--  1 pscha005 users 2.7G Dec 29 10:03 SRR8371589_2_6_paired.fq.gz\n",
    "```\n",
    "\n",
    "Example script:"
   ]
  },
  {
   "cell_type": "code",
   "execution_count": null,
   "metadata": {
    "collapsed": true
   },
   "outputs": [],
   "source": [
    "less spades_PE.sh\n",
    "\n",
    "#!/bin/bash -l\n",
    "#SBATCH --job-name=spdsEngl    # Job name\n",
    "#SBATCH --mail-type=ALL               # Mail events (NONE, BEGIN, END, FAIL, ALL)\n",
    "#SBATCH --mail-user=<pscha005@odu.edu>   # Where to send mail   \n",
    "#SBATCH --ntasks=1                    # Run on a single CPU\n",
    "#SBATCH --cpus-per-task=32\n",
    "#SBATCH -p himem\n",
    "#SBATCH --output=2018Dec29_spades_%j.out   # Standard output and error log\n",
    "\n",
    "pwd; hostname; date\n",
    "\n",
    "enable_lmod\n",
    "module load spades/3.13\n",
    "spades.py -m 768 -t 32 -k 21,33,55,77 --pe1-1 SRR8371589_1_1_paired.fq.gz --pe1-2 SRR8371589_2_1_paired.fq.gz -o spades_output_SRR8371589_1\n",
    "\n",
    "date"
   ]
  },
  {
   "cell_type": "markdown",
   "metadata": {},
   "source": [
    "#### Output of 6 separate assemblies:\n",
    "```\n",
    "-rw-r--r-- 1 pscha005 users 182K Dec 30 16:58 2018Dec29_spades_8526187.out\n",
    "-rw-r--r-- 1 pscha005 users 182K Dec 30 17:33 2018Dec29_spades_8526188.out\n",
    "-rw-r--r-- 1 pscha005 users 181K Dec 30 16:51 2018Dec29_spades_8526189.out\n",
    "-rw-r--r-- 1 pscha005 users 143K Dec 31 11:42 2018Dec29_spades_8527552.out\n",
    "-rw-r--r-- 1 pscha005 users 143K Dec 31 11:59 2018Dec29_spades_8527553.out\n",
    "-rw-r--r-- 1 pscha005 users 172K Dec 31 04:20 2018Dec29_spades_8527554.out\n",
    "```"
   ]
  },
  {
   "cell_type": "markdown",
   "metadata": {},
   "source": [
    "### SPAdes Results - Separate Assemblies\n",
    "```\n",
    "[pscha005@turing1 engelmannii]$ ../../scripts/spadesStats.py ./spades_output_*/scaffolds.fasta\n",
    "Scaffolds\tFileName\tAvgLen\tTotalLen\tN50\n",
    "789542\t./spades_output_SRR8371589_1/scaffolds.fasta\t901\t712124546\t2803\n",
    "788109\t./spades_output_SRR8371589_2/scaffolds.fasta\t901\t710771229\t2811\n",
    "787110\t./spades_output_SRR8371589_3/scaffolds.fasta\t905\t712565681\t2802\n",
    "771308\t./spades_output_SRR8371589_4/scaffolds.fasta\t923\t712102670\t2845\n",
    "794814\t./spades_output_SRR8371589_5/scaffolds.fasta\t903\t718050342\t2823\n",
    "684460\t./spades_output_SRR8371589_6/scaffolds.fasta\t735\t503085019\t1517\n",
    "431688\t./spades_output_UnpairedReads/scaffolds.fasta\t417\t180199088\t416\n",
    "```"
   ]
  },
  {
   "cell_type": "markdown",
   "metadata": {},
   "source": [
    "### Combinations of 70M fastq split-files assembled with SPAdes\n",
    "\n",
    "This is to test how many can be assembled together before HPC runs out of memory\n",
    "\n",
    "Combination of first 2 files:"
   ]
  },
  {
   "cell_type": "code",
   "execution_count": null,
   "metadata": {
    "collapsed": true
   },
   "outputs": [],
   "source": [
    "less spades_PE.sh\n",
    "\n",
    "#!/bin/bash -l\n",
    "#SBATCH --job-name=spdsEngl    # Job name\n",
    "#SBATCH --mail-type=ALL               # Mail events (NONE, BEGIN, END, FAIL, ALL)\n",
    "#SBATCH --mail-user=<pscha005@odu.edu>   # Where to send mail   \n",
    "#SBATCH --ntasks=1                    # Run on a single CPU\n",
    "#SBATCH --cpus-per-task=32\n",
    "#SBATCH -p himem\n",
    "#SBATCH --output=2018Dec30_spades_%j.out   # Standard output and error log\n",
    "\n",
    "pwd; hostname; date\n",
    "\n",
    "enable_lmod\n",
    "module load spades/3.13\n",
    "spades.py -m 768 -t 32 -k 21,33,55,77 --pe1-1 SRR8371589_1_1_paired.fq.gz --pe1-2 SRR8371589_2_1_paired.fq.gz --pe1-1 SRR8371589_1_2_paired.fq.gz --pe1-2 SRR8371589_2_2_paired.fq.gz -o spades_output_SRR8371589_1-2\n",
    "\n",
    "date"
   ]
  },
  {
   "cell_type": "markdown",
   "metadata": {},
   "source": [
    "#### Output: 2018Dec30_spades_8527634.out \n",
    "\n",
    "Mixed read pairs, job finished with tons of very short contigs\n",
    "\n",
    "2019 Jan 3: On review, command line seems correct. Don't know why so many short contigs were generated"
   ]
  },
  {
   "cell_type": "markdown",
   "metadata": {},
   "source": [
    "Combination of first 3 files:"
   ]
  },
  {
   "cell_type": "code",
   "execution_count": null,
   "metadata": {
    "collapsed": true
   },
   "outputs": [],
   "source": [
    "less spades_PE.sh\n",
    "\n",
    "#!/bin/bash -l\n",
    "#SBATCH --job-name=spdsEngl    # Job name\n",
    "#SBATCH --mail-type=ALL               # Mail events (NONE, BEGIN, END, FAIL, ALL)\n",
    "#SBATCH --mail-user=<pscha005@odu.edu>   # Where to send mail   \n",
    "#SBATCH --ntasks=1                    # Run on a single CPU\n",
    "#SBATCH --cpus-per-task=32\n",
    "#SBATCH -p himem\n",
    "#SBATCH --output=2018Dec31_spades_%j.out   # Standard output and error log\n",
    "\n",
    "pwd; hostname; date\n",
    "\n",
    "enable_lmod\n",
    "module load spades/3.13\n",
    "spades.py -m 768 -t 32 -k 21,33,55,77 --pe1-1 SRR8371589_1_1_paired.fq.gz --pe1-2 SRR8371589_2_1_paired.fq.gz --pe1-1 SRR8371589_1_2_paired.fq.gz --pe1-2 SRR8371589_2_2_paired.fq.gz --pe1-1 SRR8371589_1_3_paired.fq.gz --pe1-2 SRR8371589_2_3_paired.fq.gz -o spades_output_SRR8371589_1-3\n",
    "\n",
    "date"
   ]
  },
  {
   "cell_type": "markdown",
   "metadata": {},
   "source": [
    "#### Output: 2018Dec31_spades_8527653.out "
   ]
  },
  {
   "cell_type": "markdown",
   "metadata": {},
   "source": [
    "# 2019 January 1"
   ]
  },
  {
   "cell_type": "markdown",
   "metadata": {},
   "source": [
    "After ABySS assembly completed (stats above), submitted jobs for other k-mers\n",
    "\n",
    "#### k32 output: 2019Jan01_abyss_8527843.out\n",
    "#### k50 output: 2019Jan01_abyss_8527844.out\n",
    "#### k58 output: 2019Jan01_abyss_8527845.out\n",
    "#### k64 output: 2019Jan01_abyss_8527854.out\n",
    "#### k80 output: 2019Jan01_abyss_8527856.out\n",
    "#### k88 output: 2019Jan01_abyss_8527857.out\n",
    "#### k96 output: 2019Jan01_abyss_8527858.out"
   ]
  },
  {
   "cell_type": "markdown",
   "metadata": {},
   "source": [
    "### Reassemble newest data with all unique scaffolds generated to date using SPAdes\n",
    "\n",
    "#### Scaffolds combined:\n",
    "```\n",
    "cat Iengl_SRR8371589_30Mread_scaffolds_unique.fasta AllScaffolds.fasta_unique.fasta > AllScaffolds_unique_2019Jan01.fasta\n",
    "```\n",
    "Example SLURM file:"
   ]
  },
  {
   "cell_type": "code",
   "execution_count": null,
   "metadata": {
    "collapsed": true
   },
   "outputs": [],
   "source": [
    "#!/bin/bash -l\n",
    "#SBATCH --job-name=spdsEngl    # Job name\n",
    "#SBATCH --mail-type=ALL               # Mail events (NONE, BEGIN, END, FAIL, ALL)\n",
    "#SBATCH --mail-user=<pscha005@odu.edu>   # Where to send mail   \n",
    "#SBATCH --ntasks=1                    # Run on a single CPU\n",
    "#SBATCH --cpus-per-task=32\n",
    "#SBATCH -p himem\n",
    "#SBATCH --output=2019Jan01_spades_%j.out   # Standard output and error log\n",
    "\n",
    "pwd; hostname; date\n",
    "\n",
    "enable_lmod\n",
    "module load spades/3.13\n",
    "spades.py -m 768 -t 32 -k 21,33,55,77 --trusted-contigs ./scaffolds/AllScaffolds_unique_2019Jan01.fasta --pe1-1 SRR8371589_1_1_paired.fq.gz --pe1-2 SRR8371589_2_1_paired.fq.gz -o spades_output_SRR8371589_1_with_contigs\n",
    "\n",
    "date"
   ]
  },
  {
   "cell_type": "markdown",
   "metadata": {},
   "source": [
    "#### Outputs:\n",
    "```\n",
    "Submitted batch job 8527935\n",
    "Submitted batch job 8527936\n",
    "Submitted batch job 8527937\n",
    "Submitted batch job 8527938\n",
    "Submitted batch job 8527939\n",
    "Submitted batch job 8527940\n",
    "-rw-r--r-- 1 pscha005 users 6638 Jan  1 21:07 2019Jan01_spades_8527935.out\n",
    "-rw-r--r-- 1 pscha005 users 6638 Jan  1 21:07 2019Jan01_spades_8527936.out\n",
    "-rw-r--r-- 1 pscha005 users 6882 Jan  1 21:05 2019Jan01_spades_8527937.out\n",
    "-rw-r--r-- 1 pscha005 users 6882 Jan  1 21:05 2019Jan01_spades_8527938.out\n",
    "-rw-r--r-- 1 pscha005 users 6882 Jan  1 21:05 2019Jan01_spades_8527939.out\n",
    "```\n",
    "\n",
    "Jobs began failing due to lack of disk space. Jobs 8527937-39 canceled and temp files removed. "
   ]
  },
  {
   "cell_type": "markdown",
   "metadata": {},
   "source": [
    "# 2019 January 2\n",
    "\n",
    "### Redo SPAdes assembly of mixed up read pairs\n",
    "#### Output: 2018Jan2_spades_8528587.out \n",
    "\n"
   ]
  }
 ],
 "metadata": {
  "kernelspec": {
   "display_name": "Python 2",
   "language": "python",
   "name": "python2"
  },
  "language_info": {
   "codemirror_mode": {
    "name": "ipython",
    "version": 2
   },
   "file_extension": ".py",
   "mimetype": "text/x-python",
   "name": "python",
   "nbconvert_exporter": "python",
   "pygments_lexer": "ipython2",
   "version": "2.7.15"
  }
 },
 "nbformat": 4,
 "nbformat_minor": 2
}
