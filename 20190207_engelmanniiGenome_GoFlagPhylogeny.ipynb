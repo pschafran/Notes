{
 "cells": [
  {
   "cell_type": "markdown",
   "metadata": {
    "collapsed": true
   },
   "source": [
    "# 2019 February 7-9 - continued work on assembling Isoetes engelmannii genome\n",
    "\n",
    "CWD: /scratch-lustre/pscha005/IridianGenomes/engelmannii"
   ]
  },
  {
   "cell_type": "markdown",
   "metadata": {},
   "source": [
    "### ABySS run using complete dataset and previous SPAdes scaffolds as input.\n",
    "\n",
    "#### Output: 2019Feb07_abyss_8679245.out"
   ]
  },
  {
   "cell_type": "code",
   "execution_count": null,
   "metadata": {
    "collapsed": true
   },
   "outputs": [],
   "source": [
    "#!/bin/bash -l\n",
    "#SBATCH --job-name=abysEngl    # Job name\n",
    "#SBATCH --mail-type=ALL               # Mail events (NONE, BEGIN, END, FAIL, ALL)\n",
    "#SBATCH --mail-user=<pscha005@odu.edu>   # Where to send mail   \n",
    "#SBATCH --ntasks=20                    # Run on a single CPU\n",
    "#SBATCH --cpus-per-task=16\n",
    "#SBATCH --output=2019Feb07_abyss_%j.out   # Standard output and error log\n",
    "\n",
    "pwd; hostname; date\n",
    "\n",
    "enable_lmod\n",
    "module load abyss/2.1\n",
    "module load bwa\n",
    "abyss-pe np=20 j=16 k=72 name=Iengl_Sch43_WithContigs_k72 in='SRR8371589_1_1_paired.fq.gz SRR8371589_2_1_paired.fq.gz SRR8371589_1_2_paired.fq.gz SRR8371589_2_2_paired.fq.gz SRR8371589_1_3_paired.fq.gz SRR8371589_2_3_paired.fq.gz SRR8371589_1_4_paired.fq.gz SRR8371589_2_4_paired.fq.gz SRR8371589_1_5_paired.fq.gz SRR8371589_2_5_paired.fq.gz SRR8371589_1_6_paired.fq.gz SRR8371589_2_6_paired.fq.gz SRR7909128_1_paired.fq.gz SRR7909128_2_paired.fq.gz SRR7939431_1_paired.fq.gz SRR7939431_2_paired.fq.gz SRR7943694_1_paired.fq.gz SRR7943694_2_paired.fq.gz' long='AbyssSpadesScaffolds_2019Jan03.fasta_unique.fasta'"
   ]
  },
  {
   "cell_type": "markdown",
   "metadata": {},
   "source": [
    "#### Result: Run failed at bwa-mem step"
   ]
  },
  {
   "cell_type": "markdown",
   "metadata": {},
   "source": [
    "### Corrected ABySS to work in -long mode with SPAdes scaffolds as input. Needed to correct command line with \"longlib\" variable. Program automatically using previous output files.\n",
    "\n",
    "#### Output: 2019Feb08_abyss_8679271.out"
   ]
  },
  {
   "cell_type": "code",
   "execution_count": null,
   "metadata": {
    "collapsed": true
   },
   "outputs": [],
   "source": [
    "#!/bin/bash -l\n",
    "#SBATCH --job-name=abysEngl    # Job name\n",
    "#SBATCH --mail-type=ALL               # Mail events (NONE, BEGIN, END, FAIL, ALL)\n",
    "#SBATCH --mail-user=<pscha005@odu.edu>   # Where to send mail   \n",
    "#SBATCH --ntasks=20                    # Run on a single CPU\n",
    "#SBATCH --cpus-per-task=16\n",
    "#SBATCH --output=2019Feb08_abyss_%j.out   # Standard output and error log\n",
    "\n",
    "pwd; hostname; date\n",
    "\n",
    "enable_lmod\n",
    "module load abyss/2.1\n",
    "module load bwa\n",
    "abyss-pe np=20 j=16 k=72 name=Iengl_Sch43_WithContigs_k72 in='SRR8371589_1_1_paired.fq.gz SRR8371589_2_1_paired.fq.gz SRR8371589_1_2_paired.fq.gz SRR8371589_2_2_paired.fq.gz SRR8371589_1_3_paired.fq.gz SRR8371589_2_3_paired.fq.gz SRR8371589_1_4_paired.fq.gz SRR8371589_2_4_paired.fq.gz SRR8371589_1_5_paired.fq.gz SRR8371589_2_5_paired.fq.gz SRR8371589_1_6_paired.fq.gz SRR8371589_2_6_paired.fq.gz SRR7909128_1_paired.fq.gz SRR7909128_2_paired.fq.gz SRR7939431_1_paired.fq.gz SRR7939431_2_paired.fq.gz SRR7943694_1_paired.fq.gz SRR7943694_2_paired.fq.gz' long=longlib longlib='AbyssSpadesScaffolds_2019Jan03.fasta_unique.fasta'"
   ]
  },
  {
   "cell_type": "markdown",
   "metadata": {},
   "source": [
    "#### Result: Assembly finished! \n",
    "\n",
    "Iengl_Sch43_WithContigs_k72-stats.tab\n",
    "```\n",
    "n       n:500   L50     min     N75     N50     N25     E-size  max     sum     name\n",
    "7561845 340193  60624   500     1118    2338    4749    5107    222683  557.3e6 Iengl_Sch43_WithContigs_k72-unitigs.fa\n",
    "7147519 268398  37977   500     1771    3961    7862    11933   809720  580e6   Iengl_Sch43_WithContigs_k72-contigs.fa\n",
    "7126095 253180  30379   500     1877    4806    9940    14760   1054867 579.8e6 Iengl_Sch43_WithContigs_k72-scaffolds.fa\n",
    "7118663 245970  26477   500     1876    5531    11406   15580   1054867 579.6e6 Iengl_Sch43_WithContigs_k72-long-scaffs.fa\n",
    "```"
   ]
  },
  {
   "cell_type": "markdown",
   "metadata": {},
   "source": [
    "### Ran above assembly with k=96\n",
    "\n",
    "#### Output: 2019Feb08_abyss_8679890.out \n",
    "\n",
    "Failed at bwa indexing step\n",
    "```\n",
    "[bwt_gen] Finished constructing BWT in 372 iterations.\n",
    "[bwa_index] 1135.67 seconds elapse.\n",
    "[bwa_index] Update BWT... 11.23 sec\n",
    "[bwa_index] Pack forward-only FASTA... 11.70 sec\n",
    "[bwa_index] Construct SA from BWT and Occ... make: *** [Iengl_Sch43_WithContigs_k96-8.fa.bwt] Segmentation fault\n",
    "make: *** Deleting file `Iengl_Sch43_WithContigs_k96-8.fa.bwt'\n",
    "Sat Feb  9 15:14:20 EST 2019\n",
    "```\n",
    "\n",
    "Reran on himem node and successfully finished\n",
    "#### Output: 2019Feb08_abyss_8679995.out \n",
    "\n",
    "Iengl_Sch43_WithContigs_k96-stats.tab \n",
    "```\n",
    "n       n:500   L50     min     N75     N50     N25     E-size  max     sum     name\n",
    "5464990 357944  53020   500     1219    3039    6380    8714    617665  644.5e6 Iengl_Sch43_WithContigs_k96-unitigs.fa\n",
    "5067201 277918  32962   500     2134    5317    10498   12804   738777  668e6   Iengl_Sch43_WithContigs_k96-contigs.fa\n",
    "5045047 261411  26263   500     2382    6555    13231   14945   738777  667.6e6 Iengl_Sch43_WithContigs_k96-scaffolds.fa\n",
    "5036971 253507  23048   500     2485    7680    14965   15945   738777  667.4e6 Iengl_Sch43_WithContigs_k96-long-scaffs.fa\n",
    "```\n",
    "\n",
    "### Ran assembly with k=80 and k=88\n",
    "#### Output: 2019Feb09_abyss_8680006.out"
   ]
  },
  {
   "cell_type": "markdown",
   "metadata": {},
   "source": [
    "### Align ABySS k96 assembly to I taiwanensis genome using minimap2"
   ]
  },
  {
   "cell_type": "code",
   "execution_count": null,
   "metadata": {
    "collapsed": true
   },
   "outputs": [],
   "source": [
    "#!/bin/bash -l\n",
    "#SBATCH --job-name=miniEngl    # Job name\n",
    "#SBATCH --mail-type=ALL               # Mail events (NONE, BEGIN, END, FAIL, ALL)\n",
    "#SBATCH --mail-user=<pscha005@odu.edu>   # Where to send mail   \n",
    "#SBATCH --ntasks=16              # Run on a single CPU\n",
    "#SBATCH --output=2019Feb09_minimap_%j.out   # Standard output and error log\n",
    "\n",
    "pwd; hostname; date\n",
    "\n",
    "enable_lmod\n",
    "module load minimap2\n",
    "minimap2 -t 16 -ax asm20 /scratch-lustre/pscha005/Genomes/taiwanensis/Isoetes_taiwanensis_oxford_final.fasta /scratch-lustre/pscha005/IridianGenomes/engelmannii/Iengl_Sch43_WithContigs_k96-10.fa > Iengl_to_Itaiw_abyssk96_asm20.sam\n",
    "\n",
    "date"
   ]
  },
  {
   "cell_type": "markdown",
   "metadata": {},
   "source": [
    "#### Output: 2019Feb09_minimap_8680008.out, Iengl_to_Itaiw_abyssk96_asm20.sam\n",
    "\n",
    "-rw-r--r-- 1 pscha005 users 1.7G Feb  9 19:24 Iengl_to_Itaiw_abyssk96_asm20.sam\n",
    "\n",
    "Select for only mapped reads in SAM alignment:\n",
    "```\n",
    "module load samtools/1.1\n",
    "samtools view -F 4 Iengl_to_Itaiw_abyssk96_asm20.sam > Iengl_to_Itaiw_abyssk96_asm20_mapped.sam\n",
    "```\n",
    "\n",
    "-rw-r--r-- 1 pscha005 users 436M Feb  9 19:29 Iengl_to_Itaiw_abyssk96_asm20_mapped.sam"
   ]
  }
 ],
 "metadata": {
  "kernelspec": {
   "display_name": "Python 2",
   "language": "python",
   "name": "python2"
  },
  "language_info": {
   "codemirror_mode": {
    "name": "ipython",
    "version": 2
   },
   "file_extension": ".py",
   "mimetype": "text/x-python",
   "name": "python",
   "nbconvert_exporter": "python",
   "pygments_lexer": "ipython2",
   "version": "2.7.15"
  }
 },
 "nbformat": 4,
 "nbformat_minor": 2
}
